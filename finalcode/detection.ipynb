{
 "cells": [
  {
   "cell_type": "code",
   "execution_count": 2,
   "metadata": {},
   "outputs": [
    {
     "name": "stdout",
     "output_type": "stream",
     "text": [
      "Transferred 499/499 items from pretrained weights\n",
      "New https://pypi.org/project/ultralytics/8.3.101 available 😃 Update with 'pip install -U ultralytics'\n",
      "Ultralytics 8.3.99 🚀 Python-3.11.10 torch-2.5.1 CPU (AMD Ryzen 7 6800H with Radeon Graphics)\n",
      "\u001b[34m\u001b[1mengine/trainer: \u001b[0mtask=detect, mode=train, model=yolo11n.yaml, data=data.yaml, epochs=100, time=None, patience=100, batch=16, imgsz=416, save=True, save_period=-1, cache=False, device=None, workers=8, project=None, name=train5, exist_ok=False, pretrained=yolo11n.pt, optimizer=auto, verbose=True, seed=0, deterministic=True, single_cls=False, rect=False, cos_lr=False, close_mosaic=10, resume=False, amp=True, fraction=1.0, profile=False, freeze=None, multi_scale=False, overlap_mask=True, mask_ratio=4, dropout=0.0, val=True, split=val, save_json=False, save_hybrid=False, conf=None, iou=0.7, max_det=300, half=False, dnn=False, plots=True, source=None, vid_stride=1, stream_buffer=False, visualize=False, augment=False, agnostic_nms=False, classes=None, retina_masks=False, embed=None, show=False, save_frames=False, save_txt=False, save_conf=False, save_crop=False, show_labels=True, show_conf=True, show_boxes=True, line_width=None, format=torchscript, keras=False, optimize=False, int8=False, dynamic=False, simplify=True, opset=None, workspace=None, nms=False, lr0=0.01, lrf=0.01, momentum=0.937, weight_decay=0.0005, warmup_epochs=3.0, warmup_momentum=0.8, warmup_bias_lr=0.1, box=7.5, cls=0.5, dfl=1.5, pose=12.0, kobj=1.0, nbs=64, hsv_h=0.015, hsv_s=0.7, hsv_v=0.4, degrees=0.0, translate=0.1, scale=0.5, shear=0.0, perspective=0.0, flipud=0.0, fliplr=0.5, bgr=0.0, mosaic=1.0, mixup=0.0, copy_paste=0.0, copy_paste_mode=flip, auto_augment=randaugment, erasing=0.4, crop_fraction=1.0, cfg=None, tracker=botsort.yaml, save_dir=runs/detect/train5\n",
      "Overriding model.yaml nc=80 with nc=1\n",
      "\n",
      "                   from  n    params  module                                       arguments                     \n",
      "  0                  -1  1       464  ultralytics.nn.modules.conv.Conv             [3, 16, 3, 2]                 \n",
      "  1                  -1  1      4672  ultralytics.nn.modules.conv.Conv             [16, 32, 3, 2]                \n",
      "  2                  -1  1      6640  ultralytics.nn.modules.block.C3k2            [32, 64, 1, False, 0.25]      \n",
      "  3                  -1  1     36992  ultralytics.nn.modules.conv.Conv             [64, 64, 3, 2]                \n",
      "  4                  -1  1     26080  ultralytics.nn.modules.block.C3k2            [64, 128, 1, False, 0.25]     \n",
      "  5                  -1  1    147712  ultralytics.nn.modules.conv.Conv             [128, 128, 3, 2]              \n",
      "  6                  -1  1     87040  ultralytics.nn.modules.block.C3k2            [128, 128, 1, True]           \n",
      "  7                  -1  1    295424  ultralytics.nn.modules.conv.Conv             [128, 256, 3, 2]              \n",
      "  8                  -1  1    346112  ultralytics.nn.modules.block.C3k2            [256, 256, 1, True]           \n",
      "  9                  -1  1    164608  ultralytics.nn.modules.block.SPPF            [256, 256, 5]                 \n",
      " 10                  -1  1    249728  ultralytics.nn.modules.block.C2PSA           [256, 256, 1]                 \n",
      " 11                  -1  1         0  torch.nn.modules.upsampling.Upsample         [None, 2, 'nearest']          \n",
      " 12             [-1, 6]  1         0  ultralytics.nn.modules.conv.Concat           [1]                           \n",
      " 13                  -1  1    111296  ultralytics.nn.modules.block.C3k2            [384, 128, 1, False]          \n",
      " 14                  -1  1         0  torch.nn.modules.upsampling.Upsample         [None, 2, 'nearest']          \n",
      " 15             [-1, 4]  1         0  ultralytics.nn.modules.conv.Concat           [1]                           \n",
      " 16                  -1  1     32096  ultralytics.nn.modules.block.C3k2            [256, 64, 1, False]           \n",
      " 17                  -1  1     36992  ultralytics.nn.modules.conv.Conv             [64, 64, 3, 2]                \n",
      " 18            [-1, 13]  1         0  ultralytics.nn.modules.conv.Concat           [1]                           \n",
      " 19                  -1  1     86720  ultralytics.nn.modules.block.C3k2            [192, 128, 1, False]          \n",
      " 20                  -1  1    147712  ultralytics.nn.modules.conv.Conv             [128, 128, 3, 2]              \n",
      " 21            [-1, 10]  1         0  ultralytics.nn.modules.conv.Concat           [1]                           \n",
      " 22                  -1  1    378880  ultralytics.nn.modules.block.C3k2            [384, 256, 1, True]           \n",
      " 23        [16, 19, 22]  1    430867  ultralytics.nn.modules.head.Detect           [1, [64, 128, 256]]           \n",
      "YOLO11n summary: 181 layers, 2,590,035 parameters, 2,590,019 gradients, 6.4 GFLOPs\n",
      "\n",
      "Transferred 448/499 items from pretrained weights\n",
      "\u001b[34m\u001b[1mTensorBoard: \u001b[0mStart with 'tensorboard --logdir runs/detect/train5', view at http://localhost:6006/\n",
      "Freezing layer 'model.23.dfl.conv.weight'\n"
     ]
    },
    {
     "name": "stderr",
     "output_type": "stream",
     "text": [
      "\u001b[34m\u001b[1mtrain: \u001b[0mScanning /home/dew/intership/project1/main/train/labels.cache... 145 images, 0 backgrounds, 0 corrupt: 100%|██████████| 145/145 [00:00<?, ?it/s]\n",
      "\u001b[34m\u001b[1mval: \u001b[0mScanning /home/dew/intership/project1/main/valid/labels.cache... 26 images, 0 backgrounds, 0 corrupt: 100%|██████████| 26/26 [00:00<?, ?it/s]\n"
     ]
    },
    {
     "name": "stdout",
     "output_type": "stream",
     "text": [
      "Plotting labels to runs/detect/train5/labels.jpg... \n",
      "\u001b[34m\u001b[1moptimizer:\u001b[0m 'optimizer=auto' found, ignoring 'lr0=0.01' and 'momentum=0.937' and determining best 'optimizer', 'lr0' and 'momentum' automatically... \n",
      "\u001b[34m\u001b[1moptimizer:\u001b[0m AdamW(lr=0.002, momentum=0.9) with parameter groups 81 weight(decay=0.0), 88 weight(decay=0.0005), 87 bias(decay=0.0)\n",
      "\u001b[34m\u001b[1mTensorBoard: \u001b[0mmodel graph visualization added ✅\n",
      "Image sizes 416 train, 416 val\n",
      "Using 0 dataloader workers\n",
      "Logging results to \u001b[1mruns/detect/train5\u001b[0m\n",
      "Starting training for 100 epochs...\n",
      "\n",
      "      Epoch    GPU_mem   box_loss   cls_loss   dfl_loss  Instances       Size\n"
     ]
    },
    {
     "name": "stderr",
     "output_type": "stream",
     "text": [
      "      1/100         0G     0.8771      2.403      1.211          4        416: 100%|██████████| 10/10 [00:12<00:00,  1.23s/it]\n",
      "                 Class     Images  Instances      Box(P          R      mAP50  mAP50-95): 100%|██████████| 1/1 [00:00<00:00,  1.16it/s]"
     ]
    },
    {
     "name": "stdout",
     "output_type": "stream",
     "text": [
      "                   all         26         47    0.00603          1      0.798      0.638\n",
      "\n",
      "      Epoch    GPU_mem   box_loss   cls_loss   dfl_loss  Instances       Size\n"
     ]
    },
    {
     "name": "stderr",
     "output_type": "stream",
     "text": [
      "\n",
      "      2/100         0G     0.8044       1.95      1.131          2        416: 100%|██████████| 10/10 [00:11<00:00,  1.11s/it]\n",
      "                 Class     Images  Instances      Box(P          R      mAP50  mAP50-95): 100%|██████████| 1/1 [00:00<00:00,  1.05it/s]"
     ]
    },
    {
     "name": "stdout",
     "output_type": "stream",
     "text": [
      "                   all         26         47    0.00603          1       0.89      0.695\n",
      "\n",
      "      Epoch    GPU_mem   box_loss   cls_loss   dfl_loss  Instances       Size\n"
     ]
    },
    {
     "name": "stderr",
     "output_type": "stream",
     "text": [
      "\n",
      "      3/100         0G     0.8981      1.573      1.203          8        416: 100%|██████████| 10/10 [00:12<00:00,  1.22s/it]\n",
      "                 Class     Images  Instances      Box(P          R      mAP50  mAP50-95): 100%|██████████| 1/1 [00:00<00:00,  1.07it/s]"
     ]
    },
    {
     "name": "stdout",
     "output_type": "stream",
     "text": [
      "                   all         26         47          1      0.459      0.878      0.654\n"
     ]
    },
    {
     "name": "stderr",
     "output_type": "stream",
     "text": [
      "\n"
     ]
    },
    {
     "name": "stdout",
     "output_type": "stream",
     "text": [
      "\n",
      "      Epoch    GPU_mem   box_loss   cls_loss   dfl_loss  Instances       Size\n"
     ]
    },
    {
     "name": "stderr",
     "output_type": "stream",
     "text": [
      "      4/100         0G     0.8687      1.286      1.219          1        416: 100%|██████████| 10/10 [00:10<00:00,  1.10s/it]\n",
      "                 Class     Images  Instances      Box(P          R      mAP50  mAP50-95): 100%|██████████| 1/1 [00:00<00:00,  1.08it/s]"
     ]
    },
    {
     "name": "stdout",
     "output_type": "stream",
     "text": [
      "                   all         26         47       0.97      0.679      0.863      0.628\n",
      "\n",
      "      Epoch    GPU_mem   box_loss   cls_loss   dfl_loss  Instances       Size\n"
     ]
    },
    {
     "name": "stderr",
     "output_type": "stream",
     "text": [
      "\n",
      "      5/100         0G     0.9113      1.144      1.251          6        416: 100%|██████████| 10/10 [00:11<00:00,  1.12s/it]\n",
      "                 Class     Images  Instances      Box(P          R      mAP50  mAP50-95): 100%|██████████| 1/1 [00:00<00:00,  1.13it/s]"
     ]
    },
    {
     "name": "stdout",
     "output_type": "stream",
     "text": [
      "                   all         26         47      0.847      0.723      0.819      0.571\n",
      "\n",
      "      Epoch    GPU_mem   box_loss   cls_loss   dfl_loss  Instances       Size\n"
     ]
    },
    {
     "name": "stderr",
     "output_type": "stream",
     "text": [
      "\n",
      "      6/100         0G     0.9386      1.169      1.249          1        416: 100%|██████████| 10/10 [00:11<00:00,  1.17s/it]\n",
      "                 Class     Images  Instances      Box(P          R      mAP50  mAP50-95): 100%|██████████| 1/1 [00:00<00:00,  1.17it/s]"
     ]
    },
    {
     "name": "stdout",
     "output_type": "stream",
     "text": [
      "                   all         26         47      0.854      0.787      0.852      0.649\n",
      "\n",
      "      Epoch    GPU_mem   box_loss   cls_loss   dfl_loss  Instances       Size\n"
     ]
    },
    {
     "name": "stderr",
     "output_type": "stream",
     "text": [
      "\n",
      "      7/100         0G     0.9211      1.094       1.24          2        416: 100%|██████████| 10/10 [00:10<00:00,  1.09s/it]\n",
      "                 Class     Images  Instances      Box(P          R      mAP50  mAP50-95): 100%|██████████| 1/1 [00:00<00:00,  1.08it/s]"
     ]
    },
    {
     "name": "stdout",
     "output_type": "stream",
     "text": [
      "                   all         26         47      0.729       0.66      0.724      0.468\n",
      "\n",
      "      Epoch    GPU_mem   box_loss   cls_loss   dfl_loss  Instances       Size\n"
     ]
    },
    {
     "name": "stderr",
     "output_type": "stream",
     "text": [
      "\n",
      "      8/100         0G       1.03      1.206      1.261          2        416: 100%|██████████| 10/10 [00:12<00:00,  1.21s/it]\n",
      "                 Class     Images  Instances      Box(P          R      mAP50  mAP50-95): 100%|██████████| 1/1 [00:00<00:00,  1.18it/s]"
     ]
    },
    {
     "name": "stdout",
     "output_type": "stream",
     "text": [
      "                   all         26         47      0.771      0.646      0.711      0.404\n",
      "\n",
      "      Epoch    GPU_mem   box_loss   cls_loss   dfl_loss  Instances       Size\n"
     ]
    },
    {
     "name": "stderr",
     "output_type": "stream",
     "text": [
      "\n",
      "      9/100         0G      1.026       1.09      1.271          2        416: 100%|██████████| 10/10 [00:10<00:00,  1.06s/it]\n",
      "                 Class     Images  Instances      Box(P          R      mAP50  mAP50-95): 100%|██████████| 1/1 [00:00<00:00,  1.14it/s]"
     ]
    },
    {
     "name": "stdout",
     "output_type": "stream",
     "text": [
      "                   all         26         47      0.562      0.447      0.457      0.213\n"
     ]
    },
    {
     "name": "stderr",
     "output_type": "stream",
     "text": [
      "\n"
     ]
    },
    {
     "name": "stdout",
     "output_type": "stream",
     "text": [
      "\n",
      "      Epoch    GPU_mem   box_loss   cls_loss   dfl_loss  Instances       Size\n"
     ]
    },
    {
     "name": "stderr",
     "output_type": "stream",
     "text": [
      "     10/100         0G      1.077      1.241      1.291          2        416: 100%|██████████| 10/10 [00:11<00:00,  1.11s/it]\n",
      "                 Class     Images  Instances      Box(P          R      mAP50  mAP50-95): 100%|██████████| 1/1 [00:00<00:00,  1.16it/s]"
     ]
    },
    {
     "name": "stdout",
     "output_type": "stream",
     "text": [
      "                   all         26         47       0.75      0.681      0.705      0.449\n",
      "\n",
      "      Epoch    GPU_mem   box_loss   cls_loss   dfl_loss  Instances       Size\n"
     ]
    },
    {
     "name": "stderr",
     "output_type": "stream",
     "text": [
      "\n",
      "     11/100         0G     0.9793      1.087      1.207          2        416: 100%|██████████| 10/10 [00:11<00:00,  1.16s/it]\n",
      "                 Class     Images  Instances      Box(P          R      mAP50  mAP50-95): 100%|██████████| 1/1 [00:00<00:00,  1.16it/s]"
     ]
    },
    {
     "name": "stdout",
     "output_type": "stream",
     "text": [
      "                   all         26         47      0.817      0.723      0.787      0.483\n",
      "\n",
      "      Epoch    GPU_mem   box_loss   cls_loss   dfl_loss  Instances       Size\n"
     ]
    },
    {
     "name": "stderr",
     "output_type": "stream",
     "text": [
      "\n",
      "     12/100         0G      1.009      1.112      1.242          8        416: 100%|██████████| 10/10 [00:10<00:00,  1.09s/it]\n",
      "                 Class     Images  Instances      Box(P          R      mAP50  mAP50-95): 100%|██████████| 1/1 [00:00<00:00,  1.22it/s]"
     ]
    },
    {
     "name": "stdout",
     "output_type": "stream",
     "text": [
      "                   all         26         47       0.71      0.681      0.771      0.478\n",
      "\n",
      "      Epoch    GPU_mem   box_loss   cls_loss   dfl_loss  Instances       Size\n"
     ]
    },
    {
     "name": "stderr",
     "output_type": "stream",
     "text": [
      "\n",
      "     13/100         0G     0.9648      1.041      1.199          7        416: 100%|██████████| 10/10 [00:10<00:00,  1.07s/it]\n",
      "                 Class     Images  Instances      Box(P          R      mAP50  mAP50-95): 100%|██████████| 1/1 [00:00<00:00,  1.12it/s]"
     ]
    },
    {
     "name": "stdout",
     "output_type": "stream",
     "text": [
      "                   all         26         47      0.787      0.629      0.739       0.47\n",
      "\n",
      "      Epoch    GPU_mem   box_loss   cls_loss   dfl_loss  Instances       Size\n"
     ]
    },
    {
     "name": "stderr",
     "output_type": "stream",
     "text": [
      "\n",
      "     14/100         0G          1     0.9662      1.209          7        416: 100%|██████████| 10/10 [00:12<00:00,  1.21s/it]\n",
      "                 Class     Images  Instances      Box(P          R      mAP50  mAP50-95): 100%|██████████| 1/1 [00:00<00:00,  1.20it/s]"
     ]
    },
    {
     "name": "stdout",
     "output_type": "stream",
     "text": [
      "                   all         26         47      0.969      0.656      0.804      0.569\n",
      "\n",
      "      Epoch    GPU_mem   box_loss   cls_loss   dfl_loss  Instances       Size\n"
     ]
    },
    {
     "name": "stderr",
     "output_type": "stream",
     "text": [
      "\n",
      "     15/100         0G     0.9364     0.9232      1.214          2        416: 100%|██████████| 10/10 [00:10<00:00,  1.04s/it]\n",
      "                 Class     Images  Instances      Box(P          R      mAP50  mAP50-95): 100%|██████████| 1/1 [00:00<00:00,  1.10it/s]"
     ]
    },
    {
     "name": "stdout",
     "output_type": "stream",
     "text": [
      "                   all         26         47      0.846      0.766      0.831      0.562\n",
      "\n",
      "      Epoch    GPU_mem   box_loss   cls_loss   dfl_loss  Instances       Size\n"
     ]
    },
    {
     "name": "stderr",
     "output_type": "stream",
     "text": [
      "\n",
      "     16/100         0G      1.064      1.009       1.34          2        416: 100%|██████████| 10/10 [00:10<00:00,  1.08s/it]\n",
      "                 Class     Images  Instances      Box(P          R      mAP50  mAP50-95): 100%|██████████| 1/1 [00:00<00:00,  1.13it/s]"
     ]
    },
    {
     "name": "stdout",
     "output_type": "stream",
     "text": [
      "                   all         26         47      0.846      0.745      0.771      0.537\n",
      "\n",
      "      Epoch    GPU_mem   box_loss   cls_loss   dfl_loss  Instances       Size\n"
     ]
    },
    {
     "name": "stderr",
     "output_type": "stream",
     "text": [
      "\n",
      "     17/100         0G     0.9397     0.9163      1.169          2        416: 100%|██████████| 10/10 [00:11<00:00,  1.14s/it]\n",
      "                 Class     Images  Instances      Box(P          R      mAP50  mAP50-95): 100%|██████████| 1/1 [00:00<00:00,  1.20it/s]"
     ]
    },
    {
     "name": "stdout",
     "output_type": "stream",
     "text": [
      "                   all         26         47      0.766      0.681      0.735      0.469\n",
      "\n",
      "      Epoch    GPU_mem   box_loss   cls_loss   dfl_loss  Instances       Size\n"
     ]
    },
    {
     "name": "stderr",
     "output_type": "stream",
     "text": [
      "\n",
      "     18/100         0G       0.95     0.9319      1.204          5        416: 100%|██████████| 10/10 [00:10<00:00,  1.07s/it]\n",
      "                 Class     Images  Instances      Box(P          R      mAP50  mAP50-95): 100%|██████████| 1/1 [00:00<00:00,  1.09it/s]"
     ]
    },
    {
     "name": "stdout",
     "output_type": "stream",
     "text": [
      "                   all         26         47      0.921      0.745      0.844      0.543\n",
      "\n",
      "      Epoch    GPU_mem   box_loss   cls_loss   dfl_loss  Instances       Size\n"
     ]
    },
    {
     "name": "stderr",
     "output_type": "stream",
     "text": [
      "\n",
      "     19/100         0G     0.9979     0.9164      1.254          3        416: 100%|██████████| 10/10 [00:11<00:00,  1.16s/it]\n",
      "                 Class     Images  Instances      Box(P          R      mAP50  mAP50-95): 100%|██████████| 1/1 [00:00<00:00,  1.11it/s]"
     ]
    },
    {
     "name": "stdout",
     "output_type": "stream",
     "text": [
      "                   all         26         47      0.764      0.809      0.812      0.572\n"
     ]
    },
    {
     "name": "stderr",
     "output_type": "stream",
     "text": [
      "\n"
     ]
    },
    {
     "name": "stdout",
     "output_type": "stream",
     "text": [
      "\n",
      "      Epoch    GPU_mem   box_loss   cls_loss   dfl_loss  Instances       Size\n"
     ]
    },
    {
     "name": "stderr",
     "output_type": "stream",
     "text": [
      "     20/100         0G     0.9623     0.9492      1.253          3        416: 100%|██████████| 10/10 [00:10<00:00,  1.08s/it]\n",
      "                 Class     Images  Instances      Box(P          R      mAP50  mAP50-95): 100%|██████████| 1/1 [00:00<00:00,  1.13it/s]"
     ]
    },
    {
     "name": "stdout",
     "output_type": "stream",
     "text": [
      "                   all         26         47      0.832      0.787      0.834      0.598\n",
      "\n",
      "      Epoch    GPU_mem   box_loss   cls_loss   dfl_loss  Instances       Size\n"
     ]
    },
    {
     "name": "stderr",
     "output_type": "stream",
     "text": [
      "\n",
      "     21/100         0G     0.9082     0.8966      1.203          2        416: 100%|██████████| 10/10 [00:10<00:00,  1.07s/it]\n",
      "                 Class     Images  Instances      Box(P          R      mAP50  mAP50-95): 100%|██████████| 1/1 [00:00<00:00,  1.23it/s]"
     ]
    },
    {
     "name": "stdout",
     "output_type": "stream",
     "text": [
      "                   all         26         47      0.845      0.638      0.647      0.432\n",
      "\n",
      "      Epoch    GPU_mem   box_loss   cls_loss   dfl_loss  Instances       Size\n"
     ]
    },
    {
     "name": "stderr",
     "output_type": "stream",
     "text": [
      "\n",
      "     22/100         0G      0.941     0.8866       1.18          6        416: 100%|██████████| 10/10 [00:11<00:00,  1.18s/it]\n",
      "                 Class     Images  Instances      Box(P          R      mAP50  mAP50-95): 100%|██████████| 1/1 [00:00<00:00,  1.13it/s]"
     ]
    },
    {
     "name": "stdout",
     "output_type": "stream",
     "text": [
      "                   all         26         47        0.9      0.764      0.861      0.632\n"
     ]
    },
    {
     "name": "stderr",
     "output_type": "stream",
     "text": [
      "\n"
     ]
    },
    {
     "name": "stdout",
     "output_type": "stream",
     "text": [
      "\n",
      "      Epoch    GPU_mem   box_loss   cls_loss   dfl_loss  Instances       Size\n"
     ]
    },
    {
     "name": "stderr",
     "output_type": "stream",
     "text": [
      "     23/100         0G     0.9258     0.8648      1.177          9        416: 100%|██████████| 10/10 [00:10<00:00,  1.05s/it]\n",
      "                 Class     Images  Instances      Box(P          R      mAP50  mAP50-95): 100%|██████████| 1/1 [00:00<00:00,  1.25it/s]"
     ]
    },
    {
     "name": "stdout",
     "output_type": "stream",
     "text": [
      "                   all         26         47      0.875      0.744      0.824      0.588\n",
      "\n",
      "      Epoch    GPU_mem   box_loss   cls_loss   dfl_loss  Instances       Size\n"
     ]
    },
    {
     "name": "stderr",
     "output_type": "stream",
     "text": [
      "\n",
      "     24/100         0G     0.9167      0.863      1.173          6        416: 100%|██████████| 10/10 [00:10<00:00,  1.07s/it]\n",
      "                 Class     Images  Instances      Box(P          R      mAP50  mAP50-95): 100%|██████████| 1/1 [00:00<00:00,  1.09it/s]"
     ]
    },
    {
     "name": "stdout",
     "output_type": "stream",
     "text": [
      "                   all         26         47       0.79      0.723      0.758       0.54\n",
      "\n",
      "      Epoch    GPU_mem   box_loss   cls_loss   dfl_loss  Instances       Size\n"
     ]
    },
    {
     "name": "stderr",
     "output_type": "stream",
     "text": [
      "\n",
      "     25/100         0G     0.8641     0.8768      1.167          6        416: 100%|██████████| 10/10 [00:11<00:00,  1.17s/it]\n",
      "                 Class     Images  Instances      Box(P          R      mAP50  mAP50-95): 100%|██████████| 1/1 [00:00<00:00,  1.25it/s]"
     ]
    },
    {
     "name": "stdout",
     "output_type": "stream",
     "text": [
      "                   all         26         47      0.793      0.787      0.813       0.59\n",
      "\n",
      "      Epoch    GPU_mem   box_loss   cls_loss   dfl_loss  Instances       Size\n"
     ]
    },
    {
     "name": "stderr",
     "output_type": "stream",
     "text": [
      "\n",
      "     26/100         0G     0.8839     0.8625      1.162          5        416: 100%|██████████| 10/10 [00:10<00:00,  1.06s/it]\n",
      "                 Class     Images  Instances      Box(P          R      mAP50  mAP50-95): 100%|██████████| 1/1 [00:00<00:00,  1.10it/s]"
     ]
    },
    {
     "name": "stdout",
     "output_type": "stream",
     "text": [
      "                   all         26         47      0.838      0.768      0.813      0.582\n",
      "\n",
      "      Epoch    GPU_mem   box_loss   cls_loss   dfl_loss  Instances       Size\n"
     ]
    },
    {
     "name": "stderr",
     "output_type": "stream",
     "text": [
      "\n",
      "     27/100         0G     0.9355     0.8571      1.186          5        416: 100%|██████████| 10/10 [00:11<00:00,  1.10s/it]\n",
      "                 Class     Images  Instances      Box(P          R      mAP50  mAP50-95): 100%|██████████| 1/1 [00:00<00:00,  1.19it/s]"
     ]
    },
    {
     "name": "stdout",
     "output_type": "stream",
     "text": [
      "                   all         26         47      0.947      0.851      0.884      0.636\n",
      "\n",
      "      Epoch    GPU_mem   box_loss   cls_loss   dfl_loss  Instances       Size\n"
     ]
    },
    {
     "name": "stderr",
     "output_type": "stream",
     "text": [
      "\n",
      "     28/100         0G      0.837     0.8288      1.176          1        416: 100%|██████████| 10/10 [00:11<00:00,  1.16s/it]\n",
      "                 Class     Images  Instances      Box(P          R      mAP50  mAP50-95): 100%|██████████| 1/1 [00:00<00:00,  1.20it/s]"
     ]
    },
    {
     "name": "stdout",
     "output_type": "stream",
     "text": [
      "                   all         26         47      0.871      0.894      0.908      0.696\n",
      "\n",
      "      Epoch    GPU_mem   box_loss   cls_loss   dfl_loss  Instances       Size\n"
     ]
    },
    {
     "name": "stderr",
     "output_type": "stream",
     "text": [
      "\n",
      "     29/100         0G     0.9279     0.7755      1.214          4        416: 100%|██████████| 10/10 [00:10<00:00,  1.08s/it]\n",
      "                 Class     Images  Instances      Box(P          R      mAP50  mAP50-95): 100%|██████████| 1/1 [00:00<00:00,  1.16it/s]"
     ]
    },
    {
     "name": "stdout",
     "output_type": "stream",
     "text": [
      "                   all         26         47      0.794        0.9      0.896      0.708\n",
      "\n",
      "      Epoch    GPU_mem   box_loss   cls_loss   dfl_loss  Instances       Size\n"
     ]
    },
    {
     "name": "stderr",
     "output_type": "stream",
     "text": [
      "\n",
      "     30/100         0G     0.8295     0.7691      1.156          2        416: 100%|██████████| 10/10 [00:11<00:00,  1.19s/it]\n",
      "                 Class     Images  Instances      Box(P          R      mAP50  mAP50-95): 100%|██████████| 1/1 [00:00<00:00,  1.13it/s]"
     ]
    },
    {
     "name": "stdout",
     "output_type": "stream",
     "text": [
      "                   all         26         47      0.938      0.787      0.906      0.679\n",
      "\n",
      "      Epoch    GPU_mem   box_loss   cls_loss   dfl_loss  Instances       Size\n"
     ]
    },
    {
     "name": "stderr",
     "output_type": "stream",
     "text": [
      "\n",
      "     31/100         0G     0.9598     0.8025      1.238          2        416: 100%|██████████| 10/10 [00:11<00:00,  1.10s/it]\n",
      "                 Class     Images  Instances      Box(P          R      mAP50  mAP50-95): 100%|██████████| 1/1 [00:00<00:00,  1.18it/s]"
     ]
    },
    {
     "name": "stdout",
     "output_type": "stream",
     "text": [
      "                   all         26         47      0.775      0.954       0.91      0.671\n",
      "\n",
      "      Epoch    GPU_mem   box_loss   cls_loss   dfl_loss  Instances       Size\n"
     ]
    },
    {
     "name": "stderr",
     "output_type": "stream",
     "text": [
      "\n",
      "     32/100         0G     0.8617      1.292      1.222          1        416: 100%|██████████| 10/10 [00:10<00:00,  1.08s/it]\n",
      "                 Class     Images  Instances      Box(P          R      mAP50  mAP50-95): 100%|██████████| 1/1 [00:00<00:00,  1.14it/s]"
     ]
    },
    {
     "name": "stdout",
     "output_type": "stream",
     "text": [
      "                   all         26         47      0.842       0.83      0.885      0.633\n",
      "\n",
      "      Epoch    GPU_mem   box_loss   cls_loss   dfl_loss  Instances       Size\n"
     ]
    },
    {
     "name": "stderr",
     "output_type": "stream",
     "text": [
      "\n",
      "     33/100         0G     0.8884     0.8027      1.202          3        416: 100%|██████████| 10/10 [00:11<00:00,  1.16s/it]\n",
      "                 Class     Images  Instances      Box(P          R      mAP50  mAP50-95): 100%|██████████| 1/1 [00:00<00:00,  1.16it/s]"
     ]
    },
    {
     "name": "stdout",
     "output_type": "stream",
     "text": [
      "                   all         26         47      0.881      0.787      0.892       0.64\n",
      "\n",
      "      Epoch    GPU_mem   box_loss   cls_loss   dfl_loss  Instances       Size\n"
     ]
    },
    {
     "name": "stderr",
     "output_type": "stream",
     "text": [
      "\n",
      "     34/100         0G     0.9093      1.287      1.245          1        416: 100%|██████████| 10/10 [00:10<00:00,  1.06s/it]\n",
      "                 Class     Images  Instances      Box(P          R      mAP50  mAP50-95): 100%|██████████| 1/1 [00:00<00:00,  1.18it/s]"
     ]
    },
    {
     "name": "stdout",
     "output_type": "stream",
     "text": [
      "                   all         26         47      0.886      0.829      0.875      0.681\n",
      "\n",
      "      Epoch    GPU_mem   box_loss   cls_loss   dfl_loss  Instances       Size\n"
     ]
    },
    {
     "name": "stderr",
     "output_type": "stream",
     "text": [
      "\n",
      "     35/100         0G     0.8196     0.7183      1.153          3        416: 100%|██████████| 10/10 [00:10<00:00,  1.08s/it]\n",
      "                 Class     Images  Instances      Box(P          R      mAP50  mAP50-95): 100%|██████████| 1/1 [00:00<00:00,  1.13it/s]"
     ]
    },
    {
     "name": "stdout",
     "output_type": "stream",
     "text": [
      "                   all         26         47      0.973       0.83        0.9      0.675\n",
      "\n",
      "      Epoch    GPU_mem   box_loss   cls_loss   dfl_loss  Instances       Size\n"
     ]
    },
    {
     "name": "stderr",
     "output_type": "stream",
     "text": [
      "\n",
      "     36/100         0G     0.8208     0.7883      1.168          5        416: 100%|██████████| 10/10 [00:11<00:00,  1.17s/it]\n",
      "                 Class     Images  Instances      Box(P          R      mAP50  mAP50-95): 100%|██████████| 1/1 [00:00<00:00,  1.15it/s]"
     ]
    },
    {
     "name": "stdout",
     "output_type": "stream",
     "text": [
      "                   all         26         47      0.863      0.872      0.889      0.643\n"
     ]
    },
    {
     "name": "stderr",
     "output_type": "stream",
     "text": [
      "\n"
     ]
    },
    {
     "name": "stdout",
     "output_type": "stream",
     "text": [
      "\n",
      "      Epoch    GPU_mem   box_loss   cls_loss   dfl_loss  Instances       Size\n"
     ]
    },
    {
     "name": "stderr",
     "output_type": "stream",
     "text": [
      "     37/100         0G     0.9117      1.048      1.303          1        416: 100%|██████████| 10/10 [00:10<00:00,  1.09s/it]\n",
      "                 Class     Images  Instances      Box(P          R      mAP50  mAP50-95): 100%|██████████| 1/1 [00:00<00:00,  1.14it/s]"
     ]
    },
    {
     "name": "stdout",
     "output_type": "stream",
     "text": [
      "                   all         26         47      0.846      0.851      0.873      0.653\n",
      "\n",
      "      Epoch    GPU_mem   box_loss   cls_loss   dfl_loss  Instances       Size\n"
     ]
    },
    {
     "name": "stderr",
     "output_type": "stream",
     "text": [
      "\n",
      "     38/100         0G     0.8516     0.7718      1.166          5        416: 100%|██████████| 10/10 [00:11<00:00,  1.11s/it]\n",
      "                 Class     Images  Instances      Box(P          R      mAP50  mAP50-95): 100%|██████████| 1/1 [00:00<00:00,  1.15it/s]"
     ]
    },
    {
     "name": "stdout",
     "output_type": "stream",
     "text": [
      "                   all         26         47      0.923      0.766      0.901      0.692\n",
      "\n",
      "      Epoch    GPU_mem   box_loss   cls_loss   dfl_loss  Instances       Size\n"
     ]
    },
    {
     "name": "stderr",
     "output_type": "stream",
     "text": [
      "\n",
      "     39/100         0G      0.856      1.175       1.16          2        416: 100%|██████████| 10/10 [00:10<00:00,  1.08s/it]\n",
      "                 Class     Images  Instances      Box(P          R      mAP50  mAP50-95): 100%|██████████| 1/1 [00:00<00:00,  1.15it/s]"
     ]
    },
    {
     "name": "stdout",
     "output_type": "stream",
     "text": [
      "                   all         26         47      0.952      0.847      0.929      0.669\n",
      "\n",
      "      Epoch    GPU_mem   box_loss   cls_loss   dfl_loss  Instances       Size\n"
     ]
    },
    {
     "name": "stderr",
     "output_type": "stream",
     "text": [
      "\n",
      "     40/100         0G     0.8537     0.7138      1.165          2        416: 100%|██████████| 10/10 [00:11<00:00,  1.16s/it]\n",
      "                 Class     Images  Instances      Box(P          R      mAP50  mAP50-95): 100%|██████████| 1/1 [00:00<00:00,  1.18it/s]"
     ]
    },
    {
     "name": "stdout",
     "output_type": "stream",
     "text": [
      "                   all         26         47      0.835      0.936      0.926      0.661\n",
      "\n",
      "      Epoch    GPU_mem   box_loss   cls_loss   dfl_loss  Instances       Size\n"
     ]
    },
    {
     "name": "stderr",
     "output_type": "stream",
     "text": [
      "\n",
      "     41/100         0G     0.7666     0.7115      1.101          6        416: 100%|██████████| 10/10 [00:11<00:00,  1.17s/it]\n",
      "                 Class     Images  Instances      Box(P          R      mAP50  mAP50-95): 100%|██████████| 1/1 [00:00<00:00,  1.13it/s]"
     ]
    },
    {
     "name": "stdout",
     "output_type": "stream",
     "text": [
      "                   all         26         47       0.89      0.872      0.924      0.646\n",
      "\n",
      "      Epoch    GPU_mem   box_loss   cls_loss   dfl_loss  Instances       Size\n"
     ]
    },
    {
     "name": "stderr",
     "output_type": "stream",
     "text": [
      "\n",
      "     42/100         0G     0.7604     0.7104      1.108          5        416: 100%|██████████| 10/10 [00:10<00:00,  1.09s/it]\n",
      "                 Class     Images  Instances      Box(P          R      mAP50  mAP50-95): 100%|██████████| 1/1 [00:00<00:00,  1.18it/s]"
     ]
    },
    {
     "name": "stdout",
     "output_type": "stream",
     "text": [
      "                   all         26         47      0.947      0.851       0.92      0.682\n",
      "\n",
      "      Epoch    GPU_mem   box_loss   cls_loss   dfl_loss  Instances       Size\n"
     ]
    },
    {
     "name": "stderr",
     "output_type": "stream",
     "text": [
      "\n",
      "     43/100         0G     0.7736     0.6639      1.122          5        416: 100%|██████████| 10/10 [00:10<00:00,  1.09s/it]\n",
      "                 Class     Images  Instances      Box(P          R      mAP50  mAP50-95): 100%|██████████| 1/1 [00:00<00:00,  1.14it/s]"
     ]
    },
    {
     "name": "stdout",
     "output_type": "stream",
     "text": [
      "                   all         26         47      0.932      0.787      0.913      0.666\n",
      "\n",
      "      Epoch    GPU_mem   box_loss   cls_loss   dfl_loss  Instances       Size\n"
     ]
    },
    {
     "name": "stderr",
     "output_type": "stream",
     "text": [
      "\n",
      "     44/100         0G     0.7874     0.6938      1.147          4        416: 100%|██████████| 10/10 [00:11<00:00,  1.18s/it]\n",
      "                 Class     Images  Instances      Box(P          R      mAP50  mAP50-95): 100%|██████████| 1/1 [00:00<00:00,  1.14it/s]"
     ]
    },
    {
     "name": "stdout",
     "output_type": "stream",
     "text": [
      "                   all         26         47          1      0.803      0.944      0.707\n",
      "\n",
      "      Epoch    GPU_mem   box_loss   cls_loss   dfl_loss  Instances       Size\n"
     ]
    },
    {
     "name": "stderr",
     "output_type": "stream",
     "text": [
      "\n",
      "     45/100         0G     0.7472     0.6641      1.099          2        416: 100%|██████████| 10/10 [00:10<00:00,  1.08s/it]\n",
      "                 Class     Images  Instances      Box(P          R      mAP50  mAP50-95): 100%|██████████| 1/1 [00:00<00:00,  1.16it/s]"
     ]
    },
    {
     "name": "stdout",
     "output_type": "stream",
     "text": [
      "                   all         26         47      0.942      0.851      0.931      0.703\n",
      "\n",
      "      Epoch    GPU_mem   box_loss   cls_loss   dfl_loss  Instances       Size\n"
     ]
    },
    {
     "name": "stderr",
     "output_type": "stream",
     "text": [
      "\n",
      "     46/100         0G      0.771      0.718      1.083          9        416: 100%|██████████| 10/10 [00:11<00:00,  1.10s/it]\n",
      "                 Class     Images  Instances      Box(P          R      mAP50  mAP50-95): 100%|██████████| 1/1 [00:00<00:00,  1.16it/s]"
     ]
    },
    {
     "name": "stdout",
     "output_type": "stream",
     "text": [
      "                   all         26         47      0.929      0.833      0.931      0.706\n",
      "\n",
      "      Epoch    GPU_mem   box_loss   cls_loss   dfl_loss  Instances       Size\n"
     ]
    },
    {
     "name": "stderr",
     "output_type": "stream",
     "text": [
      "\n",
      "     47/100         0G     0.7931     0.6514       1.14          4        416: 100%|██████████| 10/10 [00:11<00:00,  1.17s/it]\n",
      "                 Class     Images  Instances      Box(P          R      mAP50  mAP50-95): 100%|██████████| 1/1 [00:00<00:00,  1.16it/s]"
     ]
    },
    {
     "name": "stdout",
     "output_type": "stream",
     "text": [
      "                   all         26         47      0.968      0.809      0.932      0.708\n",
      "\n",
      "      Epoch    GPU_mem   box_loss   cls_loss   dfl_loss  Instances       Size\n"
     ]
    },
    {
     "name": "stderr",
     "output_type": "stream",
     "text": [
      "\n",
      "     48/100         0G     0.7653     0.6745      1.114          2        416: 100%|██████████| 10/10 [00:10<00:00,  1.08s/it]\n",
      "                 Class     Images  Instances      Box(P          R      mAP50  mAP50-95): 100%|██████████| 1/1 [00:00<00:00,  1.14it/s]"
     ]
    },
    {
     "name": "stdout",
     "output_type": "stream",
     "text": [
      "                   all         26         47          1      0.867      0.918      0.689\n",
      "\n",
      "      Epoch    GPU_mem   box_loss   cls_loss   dfl_loss  Instances       Size\n"
     ]
    },
    {
     "name": "stderr",
     "output_type": "stream",
     "text": [
      "\n",
      "     49/100         0G     0.7595     0.6555      1.106          3        416: 100%|██████████| 10/10 [00:11<00:00,  1.17s/it]\n",
      "                 Class     Images  Instances      Box(P          R      mAP50  mAP50-95): 100%|██████████| 1/1 [00:00<00:00,  1.13it/s]"
     ]
    },
    {
     "name": "stdout",
     "output_type": "stream",
     "text": [
      "                   all         26         47      0.975      0.826      0.875      0.683\n"
     ]
    },
    {
     "name": "stderr",
     "output_type": "stream",
     "text": [
      "\n"
     ]
    },
    {
     "name": "stdout",
     "output_type": "stream",
     "text": [
      "\n",
      "      Epoch    GPU_mem   box_loss   cls_loss   dfl_loss  Instances       Size\n"
     ]
    },
    {
     "name": "stderr",
     "output_type": "stream",
     "text": [
      "     50/100         0G     0.9094      1.248      1.197          1        416: 100%|██████████| 10/10 [00:11<00:00,  1.15s/it]\n",
      "                 Class     Images  Instances      Box(P          R      mAP50  mAP50-95): 100%|██████████| 1/1 [00:00<00:00,  1.14it/s]"
     ]
    },
    {
     "name": "stdout",
     "output_type": "stream",
     "text": [
      "                   all         26         47          1      0.802      0.815      0.667\n",
      "\n",
      "      Epoch    GPU_mem   box_loss   cls_loss   dfl_loss  Instances       Size\n"
     ]
    },
    {
     "name": "stderr",
     "output_type": "stream",
     "text": [
      "\n",
      "     51/100         0G     0.7219     0.6036      1.068          6        416: 100%|██████████| 10/10 [00:10<00:00,  1.08s/it]\n",
      "                 Class     Images  Instances      Box(P          R      mAP50  mAP50-95): 100%|██████████| 1/1 [00:00<00:00,  1.19it/s]"
     ]
    },
    {
     "name": "stdout",
     "output_type": "stream",
     "text": [
      "                   all         26         47      0.996       0.83       0.91      0.708\n",
      "\n",
      "      Epoch    GPU_mem   box_loss   cls_loss   dfl_loss  Instances       Size\n"
     ]
    },
    {
     "name": "stderr",
     "output_type": "stream",
     "text": [
      "\n",
      "     52/100         0G      0.931     0.7256      1.323          1        416: 100%|██████████| 10/10 [00:11<00:00,  1.18s/it]\n",
      "                 Class     Images  Instances      Box(P          R      mAP50  mAP50-95): 100%|██████████| 1/1 [00:00<00:00,  1.14it/s]"
     ]
    },
    {
     "name": "stdout",
     "output_type": "stream",
     "text": [
      "                   all         26         47       0.93      0.843      0.929      0.712\n"
     ]
    },
    {
     "name": "stderr",
     "output_type": "stream",
     "text": [
      "\n"
     ]
    },
    {
     "name": "stdout",
     "output_type": "stream",
     "text": [
      "\n",
      "      Epoch    GPU_mem   box_loss   cls_loss   dfl_loss  Instances       Size\n"
     ]
    },
    {
     "name": "stderr",
     "output_type": "stream",
     "text": [
      "     53/100         0G     0.7986     0.6787      1.121          5        416: 100%|██████████| 10/10 [00:10<00:00,  1.09s/it]\n",
      "                 Class     Images  Instances      Box(P          R      mAP50  mAP50-95): 100%|██████████| 1/1 [00:00<00:00,  1.17it/s]"
     ]
    },
    {
     "name": "stdout",
     "output_type": "stream",
     "text": [
      "                   all         26         47      0.953      0.866       0.91      0.708\n",
      "\n",
      "      Epoch    GPU_mem   box_loss   cls_loss   dfl_loss  Instances       Size\n"
     ]
    },
    {
     "name": "stderr",
     "output_type": "stream",
     "text": [
      "\n",
      "     54/100         0G     0.7087     0.6529       1.08          8        416: 100%|██████████| 10/10 [00:10<00:00,  1.10s/it]\n",
      "                 Class     Images  Instances      Box(P          R      mAP50  mAP50-95): 100%|██████████| 1/1 [00:00<00:00,  1.17it/s]"
     ]
    },
    {
     "name": "stdout",
     "output_type": "stream",
     "text": [
      "                   all         26         47      0.923      0.851      0.905      0.687\n",
      "\n",
      "      Epoch    GPU_mem   box_loss   cls_loss   dfl_loss  Instances       Size\n"
     ]
    },
    {
     "name": "stderr",
     "output_type": "stream",
     "text": [
      "\n",
      "     55/100         0G     0.6983     0.6374      1.115          1        416: 100%|██████████| 10/10 [00:11<00:00,  1.19s/it]\n",
      "                 Class     Images  Instances      Box(P          R      mAP50  mAP50-95): 100%|██████████| 1/1 [00:00<00:00,  1.14it/s]"
     ]
    },
    {
     "name": "stdout",
     "output_type": "stream",
     "text": [
      "                   all         26         47      0.976      0.869      0.914      0.722\n",
      "\n",
      "      Epoch    GPU_mem   box_loss   cls_loss   dfl_loss  Instances       Size\n"
     ]
    },
    {
     "name": "stderr",
     "output_type": "stream",
     "text": [
      "\n",
      "     56/100         0G     0.8127     0.7297      1.136          3        416: 100%|██████████| 10/10 [00:10<00:00,  1.08s/it]\n",
      "                 Class     Images  Instances      Box(P          R      mAP50  mAP50-95): 100%|██████████| 1/1 [00:00<00:00,  1.14it/s]"
     ]
    },
    {
     "name": "stdout",
     "output_type": "stream",
     "text": [
      "                   all         26         47      0.973      0.851       0.91      0.736\n",
      "\n",
      "      Epoch    GPU_mem   box_loss   cls_loss   dfl_loss  Instances       Size\n"
     ]
    },
    {
     "name": "stderr",
     "output_type": "stream",
     "text": [
      "\n",
      "     57/100         0G     0.6663     0.6184      1.066          6        416: 100%|██████████| 10/10 [00:10<00:00,  1.10s/it]\n",
      "                 Class     Images  Instances      Box(P          R      mAP50  mAP50-95): 100%|██████████| 1/1 [00:01<00:00,  1.79s/it]"
     ]
    },
    {
     "name": "stdout",
     "output_type": "stream",
     "text": [
      "                   all         26         47      0.952       0.85      0.902      0.708\n",
      "\n",
      "      Epoch    GPU_mem   box_loss   cls_loss   dfl_loss  Instances       Size\n"
     ]
    },
    {
     "name": "stderr",
     "output_type": "stream",
     "text": [
      "\n",
      "     58/100         0G     0.7292     0.6261      1.081          5        416: 100%|██████████| 10/10 [00:10<00:00,  1.09s/it]\n",
      "                 Class     Images  Instances      Box(P          R      mAP50  mAP50-95): 100%|██████████| 1/1 [00:00<00:00,  1.25it/s]"
     ]
    },
    {
     "name": "stdout",
     "output_type": "stream",
     "text": [
      "                   all         26         47      0.995       0.83      0.919      0.723\n",
      "\n",
      "      Epoch    GPU_mem   box_loss   cls_loss   dfl_loss  Instances       Size\n"
     ]
    },
    {
     "name": "stderr",
     "output_type": "stream",
     "text": [
      "\n",
      "     59/100         0G     0.6237     0.5643      1.052          1        416: 100%|██████████| 10/10 [00:10<00:00,  1.09s/it]\n",
      "                 Class     Images  Instances      Box(P          R      mAP50  mAP50-95): 100%|██████████| 1/1 [00:00<00:00,  1.08it/s]"
     ]
    },
    {
     "name": "stdout",
     "output_type": "stream",
     "text": [
      "                   all         26         47      0.986      0.851      0.943       0.74\n",
      "\n",
      "      Epoch    GPU_mem   box_loss   cls_loss   dfl_loss  Instances       Size\n"
     ]
    },
    {
     "name": "stderr",
     "output_type": "stream",
     "text": [
      "\n",
      "     60/100         0G     0.6945     0.6231      1.064         10        416: 100%|██████████| 10/10 [00:11<00:00,  1.19s/it]\n",
      "                 Class     Images  Instances      Box(P          R      mAP50  mAP50-95): 100%|██████████| 1/1 [00:00<00:00,  1.17it/s]"
     ]
    },
    {
     "name": "stdout",
     "output_type": "stream",
     "text": [
      "                   all         26         47      0.949      0.894      0.947      0.746\n",
      "\n",
      "      Epoch    GPU_mem   box_loss   cls_loss   dfl_loss  Instances       Size\n"
     ]
    },
    {
     "name": "stderr",
     "output_type": "stream",
     "text": [
      "\n",
      "     61/100         0G     0.7161     0.6859      1.084          5        416: 100%|██████████| 10/10 [00:10<00:00,  1.09s/it]\n",
      "                 Class     Images  Instances      Box(P          R      mAP50  mAP50-95): 100%|██████████| 1/1 [00:00<00:00,  1.15it/s]"
     ]
    },
    {
     "name": "stdout",
     "output_type": "stream",
     "text": [
      "                   all         26         47      0.931      0.864      0.944      0.747\n"
     ]
    },
    {
     "name": "stderr",
     "output_type": "stream",
     "text": [
      "\n"
     ]
    },
    {
     "name": "stdout",
     "output_type": "stream",
     "text": [
      "\n",
      "      Epoch    GPU_mem   box_loss   cls_loss   dfl_loss  Instances       Size\n"
     ]
    },
    {
     "name": "stderr",
     "output_type": "stream",
     "text": [
      "     62/100         0G      0.753     0.6978      1.147          3        416: 100%|██████████| 10/10 [00:10<00:00,  1.06s/it]\n",
      "                 Class     Images  Instances      Box(P          R      mAP50  mAP50-95): 100%|██████████| 1/1 [00:00<00:00,  1.21it/s]"
     ]
    },
    {
     "name": "stdout",
     "output_type": "stream",
     "text": [
      "                   all         26         47      0.987       0.83      0.939      0.733\n",
      "\n",
      "      Epoch    GPU_mem   box_loss   cls_loss   dfl_loss  Instances       Size\n"
     ]
    },
    {
     "name": "stderr",
     "output_type": "stream",
     "text": [
      "\n",
      "     63/100         0G     0.6897      0.575      1.122          2        416: 100%|██████████| 10/10 [00:12<00:00,  1.20s/it]\n",
      "                 Class     Images  Instances      Box(P          R      mAP50  mAP50-95): 100%|██████████| 1/1 [00:00<00:00,  1.18it/s]"
     ]
    },
    {
     "name": "stdout",
     "output_type": "stream",
     "text": [
      "                   all         26         47      0.998      0.851      0.922      0.725\n",
      "\n",
      "      Epoch    GPU_mem   box_loss   cls_loss   dfl_loss  Instances       Size\n"
     ]
    },
    {
     "name": "stderr",
     "output_type": "stream",
     "text": [
      "\n",
      "     64/100         0G     0.7247     0.6019      1.118          4        416: 100%|██████████| 10/10 [00:10<00:00,  1.07s/it]\n",
      "                 Class     Images  Instances      Box(P          R      mAP50  mAP50-95): 100%|██████████| 1/1 [00:00<00:00,  1.17it/s]"
     ]
    },
    {
     "name": "stdout",
     "output_type": "stream",
     "text": [
      "                   all         26         47      0.993      0.872      0.929      0.721\n",
      "\n",
      "      Epoch    GPU_mem   box_loss   cls_loss   dfl_loss  Instances       Size\n"
     ]
    },
    {
     "name": "stderr",
     "output_type": "stream",
     "text": [
      "\n",
      "     65/100         0G     0.7096     0.5956      1.082          5        416: 100%|██████████| 10/10 [00:10<00:00,  1.10s/it]\n",
      "                 Class     Images  Instances      Box(P          R      mAP50  mAP50-95): 100%|██████████| 1/1 [00:00<00:00,  1.12it/s]"
     ]
    },
    {
     "name": "stdout",
     "output_type": "stream",
     "text": [
      "                   all         26         47          1      0.848      0.947      0.744\n",
      "\n",
      "      Epoch    GPU_mem   box_loss   cls_loss   dfl_loss  Instances       Size\n"
     ]
    },
    {
     "name": "stderr",
     "output_type": "stream",
     "text": [
      "\n",
      "     66/100         0G     0.7001     0.5903      1.106          4        416: 100%|██████████| 10/10 [00:11<00:00,  1.19s/it]\n",
      "                 Class     Images  Instances      Box(P          R      mAP50  mAP50-95): 100%|██████████| 1/1 [00:00<00:00,  1.20it/s]"
     ]
    },
    {
     "name": "stdout",
     "output_type": "stream",
     "text": [
      "                   all         26         47      0.977      0.787      0.913      0.714\n",
      "\n",
      "      Epoch    GPU_mem   box_loss   cls_loss   dfl_loss  Instances       Size\n"
     ]
    },
    {
     "name": "stderr",
     "output_type": "stream",
     "text": [
      "\n",
      "     67/100         0G     0.7043     0.5972      1.074          6        416: 100%|██████████| 10/10 [00:10<00:00,  1.09s/it]\n",
      "                 Class     Images  Instances      Box(P          R      mAP50  mAP50-95): 100%|██████████| 1/1 [00:00<00:00,  1.17it/s]"
     ]
    },
    {
     "name": "stdout",
     "output_type": "stream",
     "text": [
      "                   all         26         47      0.935      0.809      0.893      0.695\n",
      "\n",
      "      Epoch    GPU_mem   box_loss   cls_loss   dfl_loss  Instances       Size\n"
     ]
    },
    {
     "name": "stderr",
     "output_type": "stream",
     "text": [
      "\n",
      "     68/100         0G     0.7395     0.5979        1.1          5        416: 100%|██████████| 10/10 [00:11<00:00,  1.19s/it]\n",
      "                 Class     Images  Instances      Box(P          R      mAP50  mAP50-95): 100%|██████████| 1/1 [00:00<00:00,  1.15it/s]"
     ]
    },
    {
     "name": "stdout",
     "output_type": "stream",
     "text": [
      "                   all         26         47      0.967      0.872      0.918       0.72\n",
      "\n",
      "      Epoch    GPU_mem   box_loss   cls_loss   dfl_loss  Instances       Size\n"
     ]
    },
    {
     "name": "stderr",
     "output_type": "stream",
     "text": [
      "\n",
      "     69/100         0G     0.7106     0.5592       1.07          4        416: 100%|██████████| 10/10 [00:10<00:00,  1.07s/it]\n",
      "                 Class     Images  Instances      Box(P          R      mAP50  mAP50-95): 100%|██████████| 1/1 [00:00<00:00,  1.16it/s]"
     ]
    },
    {
     "name": "stdout",
     "output_type": "stream",
     "text": [
      "                   all         26         47      0.889      0.894      0.927      0.723\n",
      "\n",
      "      Epoch    GPU_mem   box_loss   cls_loss   dfl_loss  Instances       Size\n"
     ]
    },
    {
     "name": "stderr",
     "output_type": "stream",
     "text": [
      "\n",
      "     70/100         0G     0.6825     0.5655      1.106          1        416: 100%|██████████| 10/10 [00:10<00:00,  1.08s/it]\n",
      "                 Class     Images  Instances      Box(P          R      mAP50  mAP50-95): 100%|██████████| 1/1 [00:00<00:00,  1.12it/s]"
     ]
    },
    {
     "name": "stdout",
     "output_type": "stream",
     "text": [
      "                   all         26         47      0.928      0.851      0.924       0.72\n",
      "\n",
      "      Epoch    GPU_mem   box_loss   cls_loss   dfl_loss  Instances       Size\n"
     ]
    },
    {
     "name": "stderr",
     "output_type": "stream",
     "text": [
      "\n",
      "     71/100         0G     0.6874     0.5542      1.044          5        416: 100%|██████████| 10/10 [00:11<00:00,  1.19s/it]\n",
      "                 Class     Images  Instances      Box(P          R      mAP50  mAP50-95): 100%|██████████| 1/1 [00:00<00:00,  1.15it/s]"
     ]
    },
    {
     "name": "stdout",
     "output_type": "stream",
     "text": [
      "                   all         26         47      0.927      0.872       0.92      0.721\n",
      "\n",
      "      Epoch    GPU_mem   box_loss   cls_loss   dfl_loss  Instances       Size\n"
     ]
    },
    {
     "name": "stderr",
     "output_type": "stream",
     "text": [
      "\n",
      "     72/100         0G      0.622     0.5325      1.067          5        416: 100%|██████████| 10/10 [00:11<00:00,  1.10s/it]\n",
      "                 Class     Images  Instances      Box(P          R      mAP50  mAP50-95): 100%|██████████| 1/1 [00:00<00:00,  1.17it/s]"
     ]
    },
    {
     "name": "stdout",
     "output_type": "stream",
     "text": [
      "                   all         26         47      0.973      0.894      0.943      0.747\n"
     ]
    },
    {
     "name": "stderr",
     "output_type": "stream",
     "text": [
      "\n"
     ]
    },
    {
     "name": "stdout",
     "output_type": "stream",
     "text": [
      "\n",
      "      Epoch    GPU_mem   box_loss   cls_loss   dfl_loss  Instances       Size\n"
     ]
    },
    {
     "name": "stderr",
     "output_type": "stream",
     "text": [
      "     73/100         0G     0.6806     0.5403      1.048          6        416: 100%|██████████| 10/10 [00:10<00:00,  1.08s/it]\n",
      "                 Class     Images  Instances      Box(P          R      mAP50  mAP50-95): 100%|██████████| 1/1 [00:00<00:00,  1.17it/s]"
     ]
    },
    {
     "name": "stdout",
     "output_type": "stream",
     "text": [
      "                   all         26         47      0.987      0.872      0.927      0.753\n"
     ]
    },
    {
     "name": "stderr",
     "output_type": "stream",
     "text": [
      "\n"
     ]
    },
    {
     "name": "stdout",
     "output_type": "stream",
     "text": [
      "\n",
      "      Epoch    GPU_mem   box_loss   cls_loss   dfl_loss  Instances       Size\n"
     ]
    },
    {
     "name": "stderr",
     "output_type": "stream",
     "text": [
      "     74/100         0G     0.6471     0.5214      1.061          6        416: 100%|██████████| 10/10 [00:12<00:00,  1.21s/it]\n",
      "                 Class     Images  Instances      Box(P          R      mAP50  mAP50-95): 100%|██████████| 1/1 [00:00<00:00,  1.18it/s]"
     ]
    },
    {
     "name": "stdout",
     "output_type": "stream",
     "text": [
      "                   all         26         47      0.974       0.83      0.928      0.756\n",
      "\n",
      "      Epoch    GPU_mem   box_loss   cls_loss   dfl_loss  Instances       Size\n"
     ]
    },
    {
     "name": "stderr",
     "output_type": "stream",
     "text": [
      "\n",
      "     75/100         0G     0.6069     0.5292      1.048          3        416: 100%|██████████| 10/10 [00:10<00:00,  1.07s/it]\n",
      "                 Class     Images  Instances      Box(P          R      mAP50  mAP50-95): 100%|██████████| 1/1 [00:00<00:00,  1.15it/s]"
     ]
    },
    {
     "name": "stdout",
     "output_type": "stream",
     "text": [
      "                   all         26         47          1      0.849      0.924      0.752\n",
      "\n",
      "      Epoch    GPU_mem   box_loss   cls_loss   dfl_loss  Instances       Size\n"
     ]
    },
    {
     "name": "stderr",
     "output_type": "stream",
     "text": [
      "\n",
      "     76/100         0G     0.6395     0.4985      1.053          4        416: 100%|██████████| 10/10 [00:10<00:00,  1.08s/it]\n",
      "                 Class     Images  Instances      Box(P          R      mAP50  mAP50-95): 100%|██████████| 1/1 [00:00<00:00,  1.16it/s]"
     ]
    },
    {
     "name": "stdout",
     "output_type": "stream",
     "text": [
      "                   all         26         47      0.975      0.837      0.922      0.738\n",
      "\n",
      "      Epoch    GPU_mem   box_loss   cls_loss   dfl_loss  Instances       Size\n"
     ]
    },
    {
     "name": "stderr",
     "output_type": "stream",
     "text": [
      "\n",
      "     77/100         0G      0.682     0.5275      1.163          1        416: 100%|██████████| 10/10 [00:12<00:00,  1.20s/it]\n",
      "                 Class     Images  Instances      Box(P          R      mAP50  mAP50-95): 100%|██████████| 1/1 [00:00<00:00,  1.17it/s]"
     ]
    },
    {
     "name": "stdout",
     "output_type": "stream",
     "text": [
      "                   all         26         47      0.975      0.851      0.922      0.747\n",
      "\n",
      "      Epoch    GPU_mem   box_loss   cls_loss   dfl_loss  Instances       Size\n"
     ]
    },
    {
     "name": "stderr",
     "output_type": "stream",
     "text": [
      "\n",
      "     78/100         0G      0.671     0.5526      1.075          6        416: 100%|██████████| 10/10 [00:10<00:00,  1.08s/it]\n",
      "                 Class     Images  Instances      Box(P          R      mAP50  mAP50-95): 100%|██████████| 1/1 [00:00<00:00,  1.19it/s]"
     ]
    },
    {
     "name": "stdout",
     "output_type": "stream",
     "text": [
      "                   all         26         47      0.942      0.872      0.926      0.746\n",
      "\n",
      "      Epoch    GPU_mem   box_loss   cls_loss   dfl_loss  Instances       Size\n"
     ]
    },
    {
     "name": "stderr",
     "output_type": "stream",
     "text": [
      "\n",
      "     79/100         0G     0.6571     0.5456      1.091          3        416: 100%|██████████| 10/10 [00:11<00:00,  1.16s/it]\n",
      "                 Class     Images  Instances      Box(P          R      mAP50  mAP50-95): 100%|██████████| 1/1 [00:00<00:00,  1.13it/s]"
     ]
    },
    {
     "name": "stdout",
     "output_type": "stream",
     "text": [
      "                   all         26         47      0.971      0.872       0.92      0.739\n"
     ]
    },
    {
     "name": "stderr",
     "output_type": "stream",
     "text": [
      "\n"
     ]
    },
    {
     "name": "stdout",
     "output_type": "stream",
     "text": [
      "\n",
      "      Epoch    GPU_mem   box_loss   cls_loss   dfl_loss  Instances       Size\n"
     ]
    },
    {
     "name": "stderr",
     "output_type": "stream",
     "text": [
      "     80/100         0G     0.5572     0.4997      1.032          4        416: 100%|██████████| 10/10 [00:11<00:00,  1.13s/it]\n",
      "                 Class     Images  Instances      Box(P          R      mAP50  mAP50-95): 100%|██████████| 1/1 [00:00<00:00,  1.15it/s]"
     ]
    },
    {
     "name": "stdout",
     "output_type": "stream",
     "text": [
      "                   all         26         47       0.97      0.872      0.946       0.76\n"
     ]
    },
    {
     "name": "stderr",
     "output_type": "stream",
     "text": [
      "\n"
     ]
    },
    {
     "name": "stdout",
     "output_type": "stream",
     "text": [
      "\n",
      "      Epoch    GPU_mem   box_loss   cls_loss   dfl_loss  Instances       Size\n"
     ]
    },
    {
     "name": "stderr",
     "output_type": "stream",
     "text": [
      "     81/100         0G     0.5837     0.4844      1.054          2        416: 100%|██████████| 10/10 [00:10<00:00,  1.07s/it]\n",
      "                 Class     Images  Instances      Box(P          R      mAP50  mAP50-95): 100%|██████████| 1/1 [00:00<00:00,  1.16it/s]"
     ]
    },
    {
     "name": "stdout",
     "output_type": "stream",
     "text": [
      "                   all         26         47      0.973      0.872      0.946      0.777\n",
      "\n",
      "      Epoch    GPU_mem   box_loss   cls_loss   dfl_loss  Instances       Size\n"
     ]
    },
    {
     "name": "stderr",
     "output_type": "stream",
     "text": [
      "\n",
      "     82/100         0G     0.6853     0.6256      1.137          2        416: 100%|██████████| 10/10 [00:11<00:00,  1.18s/it]\n",
      "                 Class     Images  Instances      Box(P          R      mAP50  mAP50-95): 100%|██████████| 1/1 [00:00<00:00,  1.12it/s]"
     ]
    },
    {
     "name": "stdout",
     "output_type": "stream",
     "text": [
      "                   all         26         47      0.975      0.872      0.955      0.784\n",
      "\n",
      "      Epoch    GPU_mem   box_loss   cls_loss   dfl_loss  Instances       Size\n"
     ]
    },
    {
     "name": "stderr",
     "output_type": "stream",
     "text": [
      "\n",
      "     83/100         0G     0.6301     0.5354      1.072          2        416: 100%|██████████| 10/10 [00:10<00:00,  1.08s/it]\n",
      "                 Class     Images  Instances      Box(P          R      mAP50  mAP50-95): 100%|██████████| 1/1 [00:00<00:00,  1.19it/s]"
     ]
    },
    {
     "name": "stdout",
     "output_type": "stream",
     "text": [
      "                   all         26         47      0.981      0.872      0.956      0.772\n",
      "\n",
      "      Epoch    GPU_mem   box_loss   cls_loss   dfl_loss  Instances       Size\n"
     ]
    },
    {
     "name": "stderr",
     "output_type": "stream",
     "text": [
      "\n",
      "     84/100         0G     0.6067     0.5091      1.044          4        416: 100%|██████████| 10/10 [00:10<00:00,  1.08s/it]\n",
      "                 Class     Images  Instances      Box(P          R      mAP50  mAP50-95): 100%|██████████| 1/1 [00:00<00:00,  1.06it/s]"
     ]
    },
    {
     "name": "stdout",
     "output_type": "stream",
     "text": [
      "                   all         26         47          1      0.865      0.956      0.774\n",
      "\n",
      "      Epoch    GPU_mem   box_loss   cls_loss   dfl_loss  Instances       Size\n"
     ]
    },
    {
     "name": "stderr",
     "output_type": "stream",
     "text": [
      "\n",
      "     85/100         0G     0.5483     0.4953      1.033          4        416: 100%|██████████| 10/10 [00:12<00:00,  1.21s/it]\n",
      "                 Class     Images  Instances      Box(P          R      mAP50  mAP50-95): 100%|██████████| 1/1 [00:00<00:00,  1.14it/s]"
     ]
    },
    {
     "name": "stdout",
     "output_type": "stream",
     "text": [
      "                   all         26         47          1      0.871      0.936      0.763\n",
      "\n",
      "      Epoch    GPU_mem   box_loss   cls_loss   dfl_loss  Instances       Size\n"
     ]
    },
    {
     "name": "stderr",
     "output_type": "stream",
     "text": [
      "\n",
      "     86/100         0G     0.5981     0.5138       1.11          2        416: 100%|██████████| 10/10 [00:10<00:00,  1.09s/it]\n",
      "                 Class     Images  Instances      Box(P          R      mAP50  mAP50-95): 100%|██████████| 1/1 [00:00<00:00,  1.16it/s]"
     ]
    },
    {
     "name": "stdout",
     "output_type": "stream",
     "text": [
      "                   all         26         47      0.987      0.872      0.943      0.767\n"
     ]
    },
    {
     "name": "stderr",
     "output_type": "stream",
     "text": [
      "\n"
     ]
    },
    {
     "name": "stdout",
     "output_type": "stream",
     "text": [
      "\n",
      "      Epoch    GPU_mem   box_loss   cls_loss   dfl_loss  Instances       Size\n"
     ]
    },
    {
     "name": "stderr",
     "output_type": "stream",
     "text": [
      "     87/100         0G     0.5824     0.4734      1.026          4        416: 100%|██████████| 10/10 [00:11<00:00,  1.18s/it]\n",
      "                 Class     Images  Instances      Box(P          R      mAP50  mAP50-95): 100%|██████████| 1/1 [00:00<00:00,  1.19it/s]"
     ]
    },
    {
     "name": "stdout",
     "output_type": "stream",
     "text": [
      "                   all         26         47      0.991      0.872      0.953      0.765\n",
      "\n",
      "      Epoch    GPU_mem   box_loss   cls_loss   dfl_loss  Instances       Size\n"
     ]
    },
    {
     "name": "stderr",
     "output_type": "stream",
     "text": [
      "\n",
      "     88/100         0G     0.6474     0.6334      1.072          2        416: 100%|██████████| 10/10 [00:10<00:00,  1.09s/it]\n",
      "                 Class     Images  Instances      Box(P          R      mAP50  mAP50-95): 100%|██████████| 1/1 [00:00<00:00,  1.10it/s]"
     ]
    },
    {
     "name": "stdout",
     "output_type": "stream",
     "text": [
      "                   all         26         47      0.987      0.872      0.924      0.764\n"
     ]
    },
    {
     "name": "stderr",
     "output_type": "stream",
     "text": [
      "\n"
     ]
    },
    {
     "name": "stdout",
     "output_type": "stream",
     "text": [
      "\n",
      "      Epoch    GPU_mem   box_loss   cls_loss   dfl_loss  Instances       Size\n"
     ]
    },
    {
     "name": "stderr",
     "output_type": "stream",
     "text": [
      "     89/100         0G     0.5831     0.5068      1.035          6        416: 100%|██████████| 10/10 [00:10<00:00,  1.10s/it]\n",
      "                 Class     Images  Instances      Box(P          R      mAP50  mAP50-95): 100%|██████████| 1/1 [00:00<00:00,  1.16it/s]"
     ]
    },
    {
     "name": "stdout",
     "output_type": "stream",
     "text": [
      "                   all         26         47      0.953       0.87      0.919      0.767\n",
      "\n",
      "      Epoch    GPU_mem   box_loss   cls_loss   dfl_loss  Instances       Size\n"
     ]
    },
    {
     "name": "stderr",
     "output_type": "stream",
     "text": [
      "\n",
      "     90/100         0G      0.568     0.4794      1.008          5        416: 100%|██████████| 10/10 [00:11<00:00,  1.19s/it]\n",
      "                 Class     Images  Instances      Box(P          R      mAP50  mAP50-95): 100%|██████████| 1/1 [00:00<00:00,  1.12it/s]"
     ]
    },
    {
     "name": "stdout",
     "output_type": "stream",
     "text": [
      "                   all         26         47      0.975      0.872      0.943      0.775\n",
      "Closing dataloader mosaic\n"
     ]
    },
    {
     "name": "stderr",
     "output_type": "stream",
     "text": [
      "\n"
     ]
    },
    {
     "name": "stdout",
     "output_type": "stream",
     "text": [
      "\n",
      "      Epoch    GPU_mem   box_loss   cls_loss   dfl_loss  Instances       Size\n"
     ]
    },
    {
     "name": "stderr",
     "output_type": "stream",
     "text": [
      "     91/100         0G     0.3907     0.4011     0.8889          2        416: 100%|██████████| 10/10 [00:10<00:00,  1.08s/it]\n",
      "                 Class     Images  Instances      Box(P          R      mAP50  mAP50-95): 100%|██████████| 1/1 [00:00<00:00,  1.19it/s]"
     ]
    },
    {
     "name": "stdout",
     "output_type": "stream",
     "text": [
      "                   all         26         47      0.998      0.872      0.944      0.777\n",
      "\n",
      "      Epoch    GPU_mem   box_loss   cls_loss   dfl_loss  Instances       Size\n"
     ]
    },
    {
     "name": "stderr",
     "output_type": "stream",
     "text": [
      "\n",
      "     92/100         0G     0.3336     0.3538     0.8818          2        416: 100%|██████████| 10/10 [00:10<00:00,  1.08s/it]\n",
      "                 Class     Images  Instances      Box(P          R      mAP50  mAP50-95): 100%|██████████| 1/1 [00:00<00:00,  1.15it/s]"
     ]
    },
    {
     "name": "stdout",
     "output_type": "stream",
     "text": [
      "                   all         26         47      0.977      0.892      0.934      0.772\n",
      "\n",
      "      Epoch    GPU_mem   box_loss   cls_loss   dfl_loss  Instances       Size\n"
     ]
    },
    {
     "name": "stderr",
     "output_type": "stream",
     "text": [
      "\n",
      "     93/100         0G     0.3637     0.3577      0.912          2        416: 100%|██████████| 10/10 [00:11<00:00,  1.15s/it]\n",
      "                 Class     Images  Instances      Box(P          R      mAP50  mAP50-95): 100%|██████████| 1/1 [00:00<00:00,  1.13it/s]"
     ]
    },
    {
     "name": "stdout",
     "output_type": "stream",
     "text": [
      "                   all         26         47      0.975      0.894      0.918      0.759\n",
      "\n",
      "      Epoch    GPU_mem   box_loss   cls_loss   dfl_loss  Instances       Size\n"
     ]
    },
    {
     "name": "stderr",
     "output_type": "stream",
     "text": [
      "\n",
      "     94/100         0G     0.3831      0.369     0.9044          3        416: 100%|██████████| 10/10 [00:10<00:00,  1.07s/it]\n",
      "                 Class     Images  Instances      Box(P          R      mAP50  mAP50-95): 100%|██████████| 1/1 [00:00<00:00,  1.17it/s]"
     ]
    },
    {
     "name": "stdout",
     "output_type": "stream",
     "text": [
      "                   all         26         47          1       0.89      0.905       0.76\n",
      "\n",
      "      Epoch    GPU_mem   box_loss   cls_loss   dfl_loss  Instances       Size\n"
     ]
    },
    {
     "name": "stderr",
     "output_type": "stream",
     "text": [
      "\n",
      "     95/100         0G     0.3823     0.3444     0.9144          1        416: 100%|██████████| 10/10 [00:10<00:00,  1.07s/it]\n",
      "                 Class     Images  Instances      Box(P          R      mAP50  mAP50-95): 100%|██████████| 1/1 [00:00<00:00,  1.17it/s]"
     ]
    },
    {
     "name": "stdout",
     "output_type": "stream",
     "text": [
      "                   all         26         47      0.993      0.872      0.906      0.769\n",
      "\n",
      "      Epoch    GPU_mem   box_loss   cls_loss   dfl_loss  Instances       Size\n"
     ]
    },
    {
     "name": "stderr",
     "output_type": "stream",
     "text": [
      "\n",
      "     96/100         0G     0.4601     0.4859     0.9761          2        416: 100%|██████████| 10/10 [00:11<00:00,  1.18s/it]\n",
      "                 Class     Images  Instances      Box(P          R      mAP50  mAP50-95): 100%|██████████| 1/1 [00:00<00:00,  1.16it/s]"
     ]
    },
    {
     "name": "stdout",
     "output_type": "stream",
     "text": [
      "                   all         26         47      0.995      0.872      0.928       0.78\n",
      "\n",
      "      Epoch    GPU_mem   box_loss   cls_loss   dfl_loss  Instances       Size\n"
     ]
    },
    {
     "name": "stderr",
     "output_type": "stream",
     "text": [
      "\n",
      "     97/100         0G     0.3952     0.5937     0.9443          1        416: 100%|██████████| 10/10 [00:11<00:00,  1.11s/it]\n",
      "                 Class     Images  Instances      Box(P          R      mAP50  mAP50-95): 100%|██████████| 1/1 [00:00<00:00,  1.04it/s]"
     ]
    },
    {
     "name": "stdout",
     "output_type": "stream",
     "text": [
      "                   all         26         47      0.996      0.872      0.928      0.785\n",
      "\n",
      "      Epoch    GPU_mem   box_loss   cls_loss   dfl_loss  Instances       Size\n"
     ]
    },
    {
     "name": "stderr",
     "output_type": "stream",
     "text": [
      "\n",
      "     98/100         0G     0.3363     0.3313     0.8755          1        416: 100%|██████████| 10/10 [00:12<00:00,  1.23s/it]\n",
      "                 Class     Images  Instances      Box(P          R      mAP50  mAP50-95): 100%|██████████| 1/1 [00:00<00:00,  1.21it/s]"
     ]
    },
    {
     "name": "stdout",
     "output_type": "stream",
     "text": [
      "                   all         26         47      0.996      0.872      0.928      0.779\n",
      "\n",
      "      Epoch    GPU_mem   box_loss   cls_loss   dfl_loss  Instances       Size\n"
     ]
    },
    {
     "name": "stderr",
     "output_type": "stream",
     "text": [
      "\n",
      "     99/100         0G     0.3682     0.3134      0.908          2        416: 100%|██████████| 10/10 [00:10<00:00,  1.08s/it]\n",
      "                 Class     Images  Instances      Box(P          R      mAP50  mAP50-95): 100%|██████████| 1/1 [00:00<00:00,  1.13it/s]"
     ]
    },
    {
     "name": "stdout",
     "output_type": "stream",
     "text": [
      "                   all         26         47      0.996      0.872      0.895      0.773\n",
      "\n",
      "      Epoch    GPU_mem   box_loss   cls_loss   dfl_loss  Instances       Size\n"
     ]
    },
    {
     "name": "stderr",
     "output_type": "stream",
     "text": [
      "\n",
      "    100/100         0G     0.3672     0.3318     0.8781          3        416: 100%|██████████| 10/10 [00:10<00:00,  1.10s/it]\n",
      "                 Class     Images  Instances      Box(P          R      mAP50  mAP50-95): 100%|██████████| 1/1 [00:00<00:00,  1.14it/s]"
     ]
    },
    {
     "name": "stdout",
     "output_type": "stream",
     "text": [
      "                   all         26         47      0.977       0.89       0.91      0.777\n",
      "\n",
      "100 epochs completed in 0.343 hours.\n"
     ]
    },
    {
     "name": "stderr",
     "output_type": "stream",
     "text": [
      "\n"
     ]
    },
    {
     "name": "stdout",
     "output_type": "stream",
     "text": [
      "Optimizer stripped from runs/detect/train5/weights/last.pt, 5.4MB\n",
      "Optimizer stripped from runs/detect/train5/weights/best.pt, 5.4MB\n",
      "\n",
      "Validating runs/detect/train5/weights/best.pt...\n",
      "Ultralytics 8.3.99 🚀 Python-3.11.10 torch-2.5.1 CPU (AMD Ryzen 7 6800H with Radeon Graphics)\n",
      "YOLO11n summary (fused): 100 layers, 2,582,347 parameters, 0 gradients, 6.3 GFLOPs\n"
     ]
    },
    {
     "name": "stderr",
     "output_type": "stream",
     "text": [
      "                 Class     Images  Instances      Box(P          R      mAP50  mAP50-95): 100%|██████████| 1/1 [00:00<00:00,  1.26it/s]\n"
     ]
    },
    {
     "name": "stdout",
     "output_type": "stream",
     "text": [
      "                   all         26         47      0.975      0.872      0.955      0.783\n",
      "Speed: 0.5ms preprocess, 22.9ms inference, 0.0ms loss, 0.2ms postprocess per image\n",
      "Results saved to \u001b[1mruns/detect/train5\u001b[0m\n"
     ]
    }
   ],
   "source": [
    "\n",
    "from ultralytics import YOLO\n",
    "\n",
    "# Load a model\n",
    "model = YOLO(\"yolo11n.yaml\")  # build a new model from YAML\n",
    "model = YOLO(\"yolo11n.pt\")  # load a pretrained model (recommended for training)\n",
    "model = YOLO(\"yolo11n.yaml\").load(\"yolo11n.pt\")  # build from YAML and transfer weights\n",
    "\n",
    "# Train the model\n",
    "results = model.train(data=\"data.yaml\", epochs=100, imgsz=416)"
   ]
  },
  {
   "cell_type": "code",
   "execution_count": 8,
   "metadata": {},
   "outputs": [
    {
     "name": "stdout",
     "output_type": "stream",
     "text": [
      "\n",
      "0: 640x384 3 cows, 153.8ms\n",
      "Speed: 2.7ms preprocess, 153.8ms inference, 0.9ms postprocess per image at shape (1, 3, 640, 384)\n",
      "Processed frame 1\n",
      "0: 640x384 3 cows, 40.9ms\n",
      "Speed: 2.0ms preprocess, 40.9ms inference, 0.7ms postprocess per image at shape (1, 3, 640, 384)\n",
      "Processed frame 2\n",
      "0: 640x384 3 cows, 38.7ms\n",
      "Speed: 1.8ms preprocess, 38.7ms inference, 0.7ms postprocess per image at shape (1, 3, 640, 384)\n",
      "Processed frame 3\n",
      "0: 640x384 3 cows, 42.6ms\n",
      "Speed: 1.6ms preprocess, 42.6ms inference, 0.7ms postprocess per image at shape (1, 3, 640, 384)\n",
      "Processed frame 4\n",
      "0: 640x384 3 cows, 37.0ms\n",
      "Speed: 2.4ms preprocess, 37.0ms inference, 0.6ms postprocess per image at shape (1, 3, 640, 384)\n",
      "Processed frame 5\n",
      "0: 640x384 3 cows, 37.8ms\n",
      "Speed: 1.6ms preprocess, 37.8ms inference, 0.7ms postprocess per image at shape (1, 3, 640, 384)\n",
      "Processed frame 6\n",
      "0: 640x384 3 cows, 36.1ms\n",
      "Speed: 1.4ms preprocess, 36.1ms inference, 0.6ms postprocess per image at shape (1, 3, 640, 384)\n",
      "Processed frame 7\n",
      "0: 640x384 3 cows, 37.3ms\n",
      "Speed: 2.0ms preprocess, 37.3ms inference, 0.9ms postprocess per image at shape (1, 3, 640, 384)\n",
      "Processed frame 8\n",
      "0: 640x384 3 cows, 47.8ms\n",
      "Speed: 2.2ms preprocess, 47.8ms inference, 1.0ms postprocess per image at shape (1, 3, 640, 384)\n",
      "Processed frame 9\n",
      "0: 640x384 3 cows, 39.9ms\n",
      "Speed: 2.2ms preprocess, 39.9ms inference, 0.5ms postprocess per image at shape (1, 3, 640, 384)\n",
      "Processed frame 10\n",
      "0: 640x384 3 cows, 40.7ms\n",
      "Speed: 1.7ms preprocess, 40.7ms inference, 0.5ms postprocess per image at shape (1, 3, 640, 384)\n",
      "Processed frame 11\n",
      "0: 640x384 3 cows, 40.9ms\n",
      "Speed: 2.1ms preprocess, 40.9ms inference, 0.8ms postprocess per image at shape (1, 3, 640, 384)\n",
      "Processed frame 12\n",
      "0: 640x384 3 cows, 37.8ms\n",
      "Speed: 2.0ms preprocess, 37.8ms inference, 0.7ms postprocess per image at shape (1, 3, 640, 384)\n",
      "Processed frame 13\n",
      "0: 640x384 3 cows, 38.4ms\n",
      "Speed: 1.7ms preprocess, 38.4ms inference, 0.7ms postprocess per image at shape (1, 3, 640, 384)\n",
      "Processed frame 14\n",
      "0: 640x384 3 cows, 36.3ms\n",
      "Speed: 1.5ms preprocess, 36.3ms inference, 0.8ms postprocess per image at shape (1, 3, 640, 384)\n",
      "Processed frame 15\n",
      "0: 640x384 3 cows, 35.8ms\n",
      "Speed: 1.8ms preprocess, 35.8ms inference, 0.5ms postprocess per image at shape (1, 3, 640, 384)\n",
      "Processed frame 16\n",
      "0: 640x384 3 cows, 35.8ms\n",
      "Speed: 1.6ms preprocess, 35.8ms inference, 0.6ms postprocess per image at shape (1, 3, 640, 384)\n",
      "Processed frame 17\n",
      "0: 640x384 3 cows, 35.0ms\n",
      "Speed: 1.5ms preprocess, 35.0ms inference, 0.7ms postprocess per image at shape (1, 3, 640, 384)\n",
      "Processed frame 18\n",
      "0: 640x384 3 cows, 37.8ms\n",
      "Speed: 2.1ms preprocess, 37.8ms inference, 0.7ms postprocess per image at shape (1, 3, 640, 384)\n",
      "Processed frame 19\n",
      "0: 640x384 3 cows, 36.0ms\n",
      "Speed: 2.0ms preprocess, 36.0ms inference, 0.5ms postprocess per image at shape (1, 3, 640, 384)\n",
      "Processed frame 20\n",
      "0: 640x384 3 cows, 34.8ms\n",
      "Speed: 1.6ms preprocess, 34.8ms inference, 0.6ms postprocess per image at shape (1, 3, 640, 384)\n",
      "Processed frame 21\n",
      "0: 640x384 3 cows, 37.3ms\n",
      "Speed: 2.2ms preprocess, 37.3ms inference, 0.9ms postprocess per image at shape (1, 3, 640, 384)\n",
      "Processed frame 22\n",
      "0: 640x384 3 cows, 34.8ms\n",
      "Speed: 9.4ms preprocess, 34.8ms inference, 0.7ms postprocess per image at shape (1, 3, 640, 384)\n",
      "Processed frame 23\n",
      "0: 640x384 3 cows, 36.8ms\n",
      "Speed: 1.9ms preprocess, 36.8ms inference, 0.6ms postprocess per image at shape (1, 3, 640, 384)\n",
      "Processed frame 24\n",
      "0: 640x384 3 cows, 37.3ms\n",
      "Speed: 1.8ms preprocess, 37.3ms inference, 0.5ms postprocess per image at shape (1, 3, 640, 384)\n",
      "Processed frame 25\n",
      "0: 640x384 3 cows, 35.1ms\n",
      "Speed: 1.5ms preprocess, 35.1ms inference, 0.6ms postprocess per image at shape (1, 3, 640, 384)\n",
      "Processed frame 26\n",
      "0: 640x384 3 cows, 37.1ms\n",
      "Speed: 2.1ms preprocess, 37.1ms inference, 0.5ms postprocess per image at shape (1, 3, 640, 384)\n",
      "Processed frame 27\n",
      "0: 640x384 3 cows, 41.6ms\n",
      "Speed: 2.0ms preprocess, 41.6ms inference, 2.1ms postprocess per image at shape (1, 3, 640, 384)\n",
      "Processed frame 28\n",
      "0: 640x384 3 cows, 43.9ms\n",
      "Speed: 4.8ms preprocess, 43.9ms inference, 0.7ms postprocess per image at shape (1, 3, 640, 384)\n",
      "Processed frame 29\n",
      "0: 640x384 3 cows, 38.5ms\n",
      "Speed: 1.9ms preprocess, 38.5ms inference, 0.7ms postprocess per image at shape (1, 3, 640, 384)\n",
      "Processed frame 30\n",
      "0: 640x384 3 cows, 37.4ms\n",
      "Speed: 1.6ms preprocess, 37.4ms inference, 0.7ms postprocess per image at shape (1, 3, 640, 384)\n",
      "Processed frame 31\n",
      "0: 640x384 3 cows, 37.9ms\n",
      "Speed: 1.7ms preprocess, 37.9ms inference, 0.8ms postprocess per image at shape (1, 3, 640, 384)\n",
      "Processed frame 32\n",
      "0: 640x384 3 cows, 45.2ms\n",
      "Speed: 1.6ms preprocess, 45.2ms inference, 0.9ms postprocess per image at shape (1, 3, 640, 384)\n",
      "Processed frame 33\n",
      "0: 640x384 3 cows, 55.5ms\n",
      "Speed: 1.8ms preprocess, 55.5ms inference, 0.9ms postprocess per image at shape (1, 3, 640, 384)\n",
      "Processed frame 34\n",
      "0: 640x384 3 cows, 63.0ms\n",
      "Speed: 1.8ms preprocess, 63.0ms inference, 0.8ms postprocess per image at shape (1, 3, 640, 384)\n",
      "Processed frame 35\n",
      "0: 640x384 3 cows, 47.4ms\n",
      "Speed: 2.4ms preprocess, 47.4ms inference, 0.9ms postprocess per image at shape (1, 3, 640, 384)\n",
      "Processed frame 36\n",
      "0: 640x384 3 cows, 50.8ms\n",
      "Speed: 2.5ms preprocess, 50.8ms inference, 1.1ms postprocess per image at shape (1, 3, 640, 384)\n",
      "Processed frame 37\n",
      "0: 640x384 3 cows, 41.7ms\n",
      "Speed: 1.6ms preprocess, 41.7ms inference, 0.8ms postprocess per image at shape (1, 3, 640, 384)\n",
      "Processed frame 38\n",
      "0: 640x384 3 cows, 40.2ms\n",
      "Speed: 19.6ms preprocess, 40.2ms inference, 0.6ms postprocess per image at shape (1, 3, 640, 384)\n",
      "Processed frame 39\n",
      "0: 640x384 3 cows, 37.6ms\n",
      "Speed: 2.2ms preprocess, 37.6ms inference, 0.5ms postprocess per image at shape (1, 3, 640, 384)\n",
      "Processed frame 40\n",
      "0: 640x384 4 cows, 35.3ms\n",
      "Speed: 1.6ms preprocess, 35.3ms inference, 0.6ms postprocess per image at shape (1, 3, 640, 384)\n",
      "Processed frame 41\n",
      "0: 640x384 3 cows, 35.0ms\n",
      "Speed: 1.8ms preprocess, 35.0ms inference, 0.5ms postprocess per image at shape (1, 3, 640, 384)\n",
      "Processed frame 42\n",
      "0: 640x384 4 cows, 37.1ms\n",
      "Speed: 1.8ms preprocess, 37.1ms inference, 0.8ms postprocess per image at shape (1, 3, 640, 384)\n",
      "Processed frame 43\n",
      "0: 640x384 3 cows, 37.9ms\n",
      "Speed: 2.2ms preprocess, 37.9ms inference, 0.8ms postprocess per image at shape (1, 3, 640, 384)\n",
      "Processed frame 44\n",
      "0: 640x384 3 cows, 37.6ms\n",
      "Speed: 1.7ms preprocess, 37.6ms inference, 0.6ms postprocess per image at shape (1, 3, 640, 384)\n",
      "Processed frame 45\n",
      "0: 640x384 3 cows, 36.5ms\n",
      "Speed: 2.0ms preprocess, 36.5ms inference, 0.8ms postprocess per image at shape (1, 3, 640, 384)\n",
      "Processed frame 46\n",
      "0: 640x384 3 cows, 38.6ms\n",
      "Speed: 2.3ms preprocess, 38.6ms inference, 0.7ms postprocess per image at shape (1, 3, 640, 384)\n",
      "Processed frame 47\n",
      "0: 640x384 3 cows, 44.3ms\n",
      "Speed: 1.7ms preprocess, 44.3ms inference, 0.6ms postprocess per image at shape (1, 3, 640, 384)\n",
      "Processed frame 48\n",
      "0: 640x384 3 cows, 36.0ms\n",
      "Speed: 1.7ms preprocess, 36.0ms inference, 0.5ms postprocess per image at shape (1, 3, 640, 384)\n",
      "Processed frame 49\n",
      "0: 640x384 3 cows, 36.6ms\n",
      "Speed: 1.8ms preprocess, 36.6ms inference, 0.8ms postprocess per image at shape (1, 3, 640, 384)\n",
      "Processed frame 50\n",
      "0: 640x384 3 cows, 38.0ms\n",
      "Speed: 1.8ms preprocess, 38.0ms inference, 0.5ms postprocess per image at shape (1, 3, 640, 384)\n",
      "Processed frame 51\n",
      "0: 640x384 3 cows, 39.1ms\n",
      "Speed: 2.0ms preprocess, 39.1ms inference, 0.9ms postprocess per image at shape (1, 3, 640, 384)\n",
      "Processed frame 52\n",
      "0: 640x384 3 cows, 43.3ms\n",
      "Speed: 2.1ms preprocess, 43.3ms inference, 0.7ms postprocess per image at shape (1, 3, 640, 384)\n",
      "Processed frame 53\n",
      "0: 640x384 3 cows, 66.1ms\n",
      "Speed: 2.6ms preprocess, 66.1ms inference, 1.2ms postprocess per image at shape (1, 3, 640, 384)\n",
      "Processed frame 54\n",
      "0: 640x384 3 cows, 73.0ms\n",
      "Speed: 3.2ms preprocess, 73.0ms inference, 0.9ms postprocess per image at shape (1, 3, 640, 384)\n",
      "Processed frame 55\n",
      "0: 640x384 3 cows, 60.1ms\n",
      "Speed: 3.3ms preprocess, 60.1ms inference, 0.7ms postprocess per image at shape (1, 3, 640, 384)\n",
      "Processed frame 56\n",
      "0: 640x384 3 cows, 39.9ms\n",
      "Speed: 2.2ms preprocess, 39.9ms inference, 0.6ms postprocess per image at shape (1, 3, 640, 384)\n",
      "Processed frame 57\n",
      "0: 640x384 3 cows, 37.8ms\n",
      "Speed: 2.0ms preprocess, 37.8ms inference, 0.7ms postprocess per image at shape (1, 3, 640, 384)\n",
      "Processed frame 58\n",
      "0: 640x384 3 cows, 37.2ms\n",
      "Speed: 2.1ms preprocess, 37.2ms inference, 0.6ms postprocess per image at shape (1, 3, 640, 384)\n",
      "Processed frame 59\n",
      "0: 640x384 3 cows, 43.1ms\n",
      "Speed: 2.1ms preprocess, 43.1ms inference, 0.6ms postprocess per image at shape (1, 3, 640, 384)\n",
      "Processed frame 60\n",
      "0: 640x384 3 cows, 35.8ms\n",
      "Speed: 1.7ms preprocess, 35.8ms inference, 0.5ms postprocess per image at shape (1, 3, 640, 384)\n",
      "Processed frame 61\n",
      "0: 640x384 3 cows, 35.9ms\n",
      "Speed: 2.0ms preprocess, 35.9ms inference, 0.5ms postprocess per image at shape (1, 3, 640, 384)\n",
      "Processed frame 62\n",
      "0: 640x384 3 cows, 38.1ms\n",
      "Speed: 1.5ms preprocess, 38.1ms inference, 0.7ms postprocess per image at shape (1, 3, 640, 384)\n",
      "Processed frame 63\n",
      "0: 640x384 3 cows, 37.5ms\n",
      "Speed: 2.1ms preprocess, 37.5ms inference, 0.6ms postprocess per image at shape (1, 3, 640, 384)\n",
      "Processed frame 64\n",
      "0: 640x384 3 cows, 35.8ms\n",
      "Speed: 1.5ms preprocess, 35.8ms inference, 0.5ms postprocess per image at shape (1, 3, 640, 384)\n",
      "Processed frame 65\n",
      "0: 640x384 3 cows, 34.5ms\n",
      "Speed: 1.7ms preprocess, 34.5ms inference, 0.6ms postprocess per image at shape (1, 3, 640, 384)\n",
      "Processed frame 66\n",
      "0: 640x384 3 cows, 36.3ms\n",
      "Speed: 1.5ms preprocess, 36.3ms inference, 0.7ms postprocess per image at shape (1, 3, 640, 384)\n",
      "Processed frame 67\n",
      "0: 640x384 3 cows, 33.4ms\n",
      "Speed: 1.5ms preprocess, 33.4ms inference, 0.6ms postprocess per image at shape (1, 3, 640, 384)\n",
      "Processed frame 68\n",
      "0: 640x384 3 cows, 36.5ms\n",
      "Speed: 1.4ms preprocess, 36.5ms inference, 0.6ms postprocess per image at shape (1, 3, 640, 384)\n",
      "Processed frame 69\n",
      "0: 640x384 3 cows, 36.0ms\n",
      "Speed: 2.1ms preprocess, 36.0ms inference, 0.6ms postprocess per image at shape (1, 3, 640, 384)\n",
      "Processed frame 70\n",
      "0: 640x384 3 cows, 35.2ms\n",
      "Speed: 1.9ms preprocess, 35.2ms inference, 0.9ms postprocess per image at shape (1, 3, 640, 384)\n",
      "Processed frame 71\n",
      "0: 640x384 3 cows, 35.3ms\n",
      "Speed: 1.9ms preprocess, 35.3ms inference, 0.6ms postprocess per image at shape (1, 3, 640, 384)\n",
      "Processed frame 72\n",
      "0: 640x384 3 cows, 34.2ms\n",
      "Speed: 1.4ms preprocess, 34.2ms inference, 0.7ms postprocess per image at shape (1, 3, 640, 384)\n",
      "Processed frame 73\n",
      "0: 640x384 3 cows, 33.4ms\n",
      "Speed: 1.4ms preprocess, 33.4ms inference, 0.5ms postprocess per image at shape (1, 3, 640, 384)\n",
      "Processed frame 74\n",
      "0: 640x384 3 cows, 40.3ms\n",
      "Speed: 1.8ms preprocess, 40.3ms inference, 0.7ms postprocess per image at shape (1, 3, 640, 384)\n",
      "Processed frame 75\n",
      "0: 640x384 3 cows, 34.8ms\n",
      "Speed: 1.7ms preprocess, 34.8ms inference, 0.5ms postprocess per image at shape (1, 3, 640, 384)\n",
      "Processed frame 76\n",
      "0: 640x384 3 cows, 34.5ms\n",
      "Speed: 1.8ms preprocess, 34.5ms inference, 0.6ms postprocess per image at shape (1, 3, 640, 384)\n",
      "Processed frame 77\n",
      "0: 640x384 3 cows, 33.6ms\n",
      "Speed: 2.2ms preprocess, 33.6ms inference, 0.6ms postprocess per image at shape (1, 3, 640, 384)\n",
      "Processed frame 78\n",
      "0: 640x384 3 cows, 32.4ms\n",
      "Speed: 1.5ms preprocess, 32.4ms inference, 0.5ms postprocess per image at shape (1, 3, 640, 384)\n",
      "Processed frame 79\n",
      "0: 640x384 3 cows, 33.9ms\n",
      "Speed: 1.5ms preprocess, 33.9ms inference, 0.5ms postprocess per image at shape (1, 3, 640, 384)\n",
      "Processed frame 80\n",
      "0: 640x384 3 cows, 32.2ms\n",
      "Speed: 1.5ms preprocess, 32.2ms inference, 0.6ms postprocess per image at shape (1, 3, 640, 384)\n",
      "Processed frame 81\n",
      "0: 640x384 3 cows, 34.6ms\n",
      "Speed: 2.1ms preprocess, 34.6ms inference, 0.6ms postprocess per image at shape (1, 3, 640, 384)\n",
      "Processed frame 82\n",
      "0: 640x384 3 cows, 34.4ms\n",
      "Speed: 3.5ms preprocess, 34.4ms inference, 0.7ms postprocess per image at shape (1, 3, 640, 384)\n",
      "Processed frame 83\n",
      "0: 640x384 3 cows, 34.5ms\n",
      "Speed: 1.5ms preprocess, 34.5ms inference, 0.6ms postprocess per image at shape (1, 3, 640, 384)\n",
      "Processed frame 84\n",
      "0: 640x384 3 cows, 35.3ms\n",
      "Speed: 1.4ms preprocess, 35.3ms inference, 0.5ms postprocess per image at shape (1, 3, 640, 384)\n",
      "Processed frame 85\n",
      "0: 640x384 3 cows, 34.5ms\n",
      "Speed: 1.4ms preprocess, 34.5ms inference, 0.6ms postprocess per image at shape (1, 3, 640, 384)\n",
      "Processed frame 86\n",
      "0: 640x384 3 cows, 34.4ms\n",
      "Speed: 1.8ms preprocess, 34.4ms inference, 0.6ms postprocess per image at shape (1, 3, 640, 384)\n",
      "Processed frame 87\n",
      "0: 640x384 3 cows, 35.0ms\n",
      "Speed: 2.4ms preprocess, 35.0ms inference, 0.6ms postprocess per image at shape (1, 3, 640, 384)\n",
      "Processed frame 88\n",
      "0: 640x384 3 cows, 37.1ms\n",
      "Speed: 1.9ms preprocess, 37.1ms inference, 0.5ms postprocess per image at shape (1, 3, 640, 384)\n",
      "Processed frame 89\n",
      "0: 640x384 3 cows, 42.1ms\n",
      "Speed: 1.9ms preprocess, 42.1ms inference, 0.6ms postprocess per image at shape (1, 3, 640, 384)\n",
      "Processed frame 90\n",
      "0: 640x384 3 cows, 32.4ms\n",
      "Speed: 1.9ms preprocess, 32.4ms inference, 0.5ms postprocess per image at shape (1, 3, 640, 384)\n",
      "Processed frame 91\n",
      "0: 640x384 3 cows, 34.0ms\n",
      "Speed: 1.5ms preprocess, 34.0ms inference, 0.6ms postprocess per image at shape (1, 3, 640, 384)\n",
      "Processed frame 92\n",
      "0: 640x384 3 cows, 34.6ms\n",
      "Speed: 1.4ms preprocess, 34.6ms inference, 0.5ms postprocess per image at shape (1, 3, 640, 384)\n",
      "Processed frame 93\n",
      "0: 640x384 3 cows, 33.1ms\n",
      "Speed: 1.8ms preprocess, 33.1ms inference, 0.8ms postprocess per image at shape (1, 3, 640, 384)\n",
      "Processed frame 94\n",
      "0: 640x384 3 cows, 56.4ms\n",
      "Speed: 9.2ms preprocess, 56.4ms inference, 0.6ms postprocess per image at shape (1, 3, 640, 384)\n",
      "Processed frame 95\n",
      "0: 640x384 3 cows, 34.6ms\n",
      "Speed: 1.9ms preprocess, 34.6ms inference, 0.6ms postprocess per image at shape (1, 3, 640, 384)\n",
      "Processed frame 96\n",
      "0: 640x384 3 cows, 36.9ms\n",
      "Speed: 2.0ms preprocess, 36.9ms inference, 0.9ms postprocess per image at shape (1, 3, 640, 384)\n",
      "Processed frame 97\n",
      "0: 640x384 3 cows, 35.1ms\n",
      "Speed: 1.7ms preprocess, 35.1ms inference, 0.7ms postprocess per image at shape (1, 3, 640, 384)\n",
      "Processed frame 98\n",
      "0: 640x384 3 cows, 35.5ms\n",
      "Speed: 1.8ms preprocess, 35.5ms inference, 0.6ms postprocess per image at shape (1, 3, 640, 384)\n",
      "Processed frame 99\n",
      "0: 640x384 3 cows, 35.0ms\n",
      "Speed: 1.7ms preprocess, 35.0ms inference, 0.7ms postprocess per image at shape (1, 3, 640, 384)\n",
      "Processed frame 100\n",
      "0: 640x384 3 cows, 31.8ms\n",
      "Speed: 1.8ms preprocess, 31.8ms inference, 0.9ms postprocess per image at shape (1, 3, 640, 384)\n",
      "Processed frame 101\n",
      "0: 640x384 3 cows, 34.4ms\n",
      "Speed: 1.5ms preprocess, 34.4ms inference, 0.6ms postprocess per image at shape (1, 3, 640, 384)\n",
      "Processed frame 102\n",
      "0: 640x384 3 cows, 33.7ms\n",
      "Speed: 1.6ms preprocess, 33.7ms inference, 0.6ms postprocess per image at shape (1, 3, 640, 384)\n",
      "Processed frame 103\n",
      "0: 640x384 3 cows, 34.3ms\n",
      "Speed: 1.8ms preprocess, 34.3ms inference, 0.7ms postprocess per image at shape (1, 3, 640, 384)\n",
      "Processed frame 104\n",
      "0: 640x384 3 cows, 38.3ms\n",
      "Speed: 1.4ms preprocess, 38.3ms inference, 0.7ms postprocess per image at shape (1, 3, 640, 384)\n",
      "Processed frame 105\n",
      "0: 640x384 3 cows, 33.8ms\n",
      "Speed: 1.6ms preprocess, 33.8ms inference, 0.5ms postprocess per image at shape (1, 3, 640, 384)\n",
      "Processed frame 106\n",
      "0: 640x384 3 cows, 33.1ms\n",
      "Speed: 2.0ms preprocess, 33.1ms inference, 0.6ms postprocess per image at shape (1, 3, 640, 384)\n",
      "Processed frame 107\n",
      "0: 640x384 3 cows, 32.3ms\n",
      "Speed: 2.2ms preprocess, 32.3ms inference, 0.5ms postprocess per image at shape (1, 3, 640, 384)\n",
      "Processed frame 108\n",
      "0: 640x384 3 cows, 32.6ms\n",
      "Speed: 2.0ms preprocess, 32.6ms inference, 0.6ms postprocess per image at shape (1, 3, 640, 384)\n",
      "Processed frame 109\n",
      "0: 640x384 3 cows, 35.0ms\n",
      "Speed: 1.4ms preprocess, 35.0ms inference, 0.7ms postprocess per image at shape (1, 3, 640, 384)\n",
      "Processed frame 110\n",
      "0: 640x384 3 cows, 32.7ms\n",
      "Speed: 1.7ms preprocess, 32.7ms inference, 0.5ms postprocess per image at shape (1, 3, 640, 384)\n",
      "Processed frame 111\n",
      "0: 640x384 3 cows, 32.5ms\n",
      "Speed: 1.6ms preprocess, 32.5ms inference, 0.5ms postprocess per image at shape (1, 3, 640, 384)\n",
      "Processed frame 112\n",
      "0: 640x384 3 cows, 36.3ms\n",
      "Speed: 1.8ms preprocess, 36.3ms inference, 0.6ms postprocess per image at shape (1, 3, 640, 384)\n",
      "Processed frame 113\n",
      "0: 640x384 3 cows, 36.9ms\n",
      "Speed: 1.9ms preprocess, 36.9ms inference, 0.6ms postprocess per image at shape (1, 3, 640, 384)\n",
      "Processed frame 114\n",
      "0: 640x384 3 cows, 35.7ms\n",
      "Speed: 2.1ms preprocess, 35.7ms inference, 0.6ms postprocess per image at shape (1, 3, 640, 384)\n",
      "Processed frame 115\n",
      "0: 640x384 3 cows, 37.4ms\n",
      "Speed: 2.1ms preprocess, 37.4ms inference, 0.5ms postprocess per image at shape (1, 3, 640, 384)\n",
      "Processed frame 116\n",
      "0: 640x384 3 cows, 34.0ms\n",
      "Speed: 1.6ms preprocess, 34.0ms inference, 0.5ms postprocess per image at shape (1, 3, 640, 384)\n",
      "Processed frame 117\n",
      "0: 640x384 3 cows, 33.9ms\n",
      "Speed: 1.5ms preprocess, 33.9ms inference, 0.5ms postprocess per image at shape (1, 3, 640, 384)\n",
      "Processed frame 118\n",
      "0: 640x384 3 cows, 37.7ms\n",
      "Speed: 2.0ms preprocess, 37.7ms inference, 0.6ms postprocess per image at shape (1, 3, 640, 384)\n",
      "Processed frame 119\n",
      "0: 640x384 3 cows, 33.0ms\n",
      "Speed: 1.5ms preprocess, 33.0ms inference, 0.5ms postprocess per image at shape (1, 3, 640, 384)\n",
      "Processed frame 120\n",
      "0: 640x384 3 cows, 35.1ms\n",
      "Speed: 7.0ms preprocess, 35.1ms inference, 0.6ms postprocess per image at shape (1, 3, 640, 384)\n",
      "Processed frame 121\n",
      "0: 640x384 3 cows, 33.5ms\n",
      "Speed: 1.4ms preprocess, 33.5ms inference, 0.5ms postprocess per image at shape (1, 3, 640, 384)\n",
      "Processed frame 122\n",
      "0: 640x384 3 cows, 39.9ms\n",
      "Speed: 1.7ms preprocess, 39.9ms inference, 0.6ms postprocess per image at shape (1, 3, 640, 384)\n",
      "Processed frame 123\n",
      "0: 640x384 3 cows, 35.2ms\n",
      "Speed: 2.0ms preprocess, 35.2ms inference, 0.7ms postprocess per image at shape (1, 3, 640, 384)\n",
      "Processed frame 124\n",
      "0: 640x384 3 cows, 39.4ms\n",
      "Speed: 1.6ms preprocess, 39.4ms inference, 0.7ms postprocess per image at shape (1, 3, 640, 384)\n",
      "Processed frame 125\n",
      "0: 640x384 3 cows, 34.1ms\n",
      "Speed: 1.9ms preprocess, 34.1ms inference, 0.7ms postprocess per image at shape (1, 3, 640, 384)\n",
      "Processed frame 126\n",
      "0: 640x384 3 cows, 34.2ms\n",
      "Speed: 1.5ms preprocess, 34.2ms inference, 0.5ms postprocess per image at shape (1, 3, 640, 384)\n",
      "Processed frame 127\n",
      "0: 640x384 3 cows, 34.3ms\n",
      "Speed: 2.2ms preprocess, 34.3ms inference, 0.6ms postprocess per image at shape (1, 3, 640, 384)\n",
      "Processed frame 128\n",
      "0: 640x384 3 cows, 36.5ms\n",
      "Speed: 1.4ms preprocess, 36.5ms inference, 0.5ms postprocess per image at shape (1, 3, 640, 384)\n",
      "Processed frame 129\n",
      "0: 640x384 3 cows, 33.8ms\n",
      "Speed: 1.6ms preprocess, 33.8ms inference, 0.8ms postprocess per image at shape (1, 3, 640, 384)\n",
      "Processed frame 130\n",
      "0: 640x384 3 cows, 37.1ms\n",
      "Speed: 2.0ms preprocess, 37.1ms inference, 0.6ms postprocess per image at shape (1, 3, 640, 384)\n",
      "Processed frame 131\n",
      "0: 640x384 3 cows, 33.7ms\n",
      "Speed: 1.8ms preprocess, 33.7ms inference, 0.6ms postprocess per image at shape (1, 3, 640, 384)\n",
      "Processed frame 132\n",
      "0: 640x384 3 cows, 35.1ms\n",
      "Speed: 1.8ms preprocess, 35.1ms inference, 0.5ms postprocess per image at shape (1, 3, 640, 384)\n",
      "Processed frame 133\n",
      "0: 640x384 3 cows, 34.0ms\n",
      "Speed: 1.9ms preprocess, 34.0ms inference, 0.7ms postprocess per image at shape (1, 3, 640, 384)\n",
      "Processed frame 134\n",
      "0: 640x384 3 cows, 33.8ms\n",
      "Speed: 1.4ms preprocess, 33.8ms inference, 0.5ms postprocess per image at shape (1, 3, 640, 384)\n",
      "Processed frame 135\n",
      "0: 640x384 3 cows, 38.2ms\n",
      "Speed: 1.6ms preprocess, 38.2ms inference, 0.5ms postprocess per image at shape (1, 3, 640, 384)\n",
      "Processed frame 136\n",
      "0: 640x384 3 cows, 34.9ms\n",
      "Speed: 1.8ms preprocess, 34.9ms inference, 0.6ms postprocess per image at shape (1, 3, 640, 384)\n",
      "Processed frame 137\n",
      "0: 640x384 3 cows, 36.0ms\n",
      "Speed: 1.7ms preprocess, 36.0ms inference, 0.7ms postprocess per image at shape (1, 3, 640, 384)\n",
      "Processed frame 138\n",
      "0: 640x384 3 cows, 33.2ms\n",
      "Speed: 1.7ms preprocess, 33.2ms inference, 0.5ms postprocess per image at shape (1, 3, 640, 384)\n",
      "Processed frame 139\n",
      "0: 640x384 3 cows, 35.3ms\n",
      "Speed: 1.9ms preprocess, 35.3ms inference, 0.6ms postprocess per image at shape (1, 3, 640, 384)\n",
      "Processed frame 140\n",
      "0: 640x384 3 cows, 32.6ms\n",
      "Speed: 1.4ms preprocess, 32.6ms inference, 0.6ms postprocess per image at shape (1, 3, 640, 384)\n",
      "Processed frame 141\n",
      "0: 640x384 3 cows, 35.8ms\n",
      "Speed: 1.9ms preprocess, 35.8ms inference, 0.6ms postprocess per image at shape (1, 3, 640, 384)\n",
      "Processed frame 142\n",
      "0: 640x384 3 cows, 36.1ms\n",
      "Speed: 1.9ms preprocess, 36.1ms inference, 0.6ms postprocess per image at shape (1, 3, 640, 384)\n",
      "Processed frame 143\n",
      "0: 640x384 3 cows, 32.8ms\n",
      "Speed: 1.5ms preprocess, 32.8ms inference, 0.6ms postprocess per image at shape (1, 3, 640, 384)\n",
      "Processed frame 144\n",
      "0: 640x384 3 cows, 35.1ms\n",
      "Speed: 1.8ms preprocess, 35.1ms inference, 0.5ms postprocess per image at shape (1, 3, 640, 384)\n",
      "Processed frame 145\n",
      "0: 640x384 3 cows, 34.4ms\n",
      "Speed: 1.6ms preprocess, 34.4ms inference, 0.6ms postprocess per image at shape (1, 3, 640, 384)\n",
      "Processed frame 146\n",
      "0: 640x384 3 cows, 35.7ms\n",
      "Speed: 1.5ms preprocess, 35.7ms inference, 0.9ms postprocess per image at shape (1, 3, 640, 384)\n",
      "Processed frame 147\n",
      "0: 640x384 3 cows, 35.9ms\n",
      "Speed: 2.2ms preprocess, 35.9ms inference, 0.6ms postprocess per image at shape (1, 3, 640, 384)\n",
      "Processed frame 148\n",
      "0: 640x384 3 cows, 34.0ms\n",
      "Speed: 1.5ms preprocess, 34.0ms inference, 0.6ms postprocess per image at shape (1, 3, 640, 384)\n",
      "Processed frame 149\n",
      "0: 640x384 3 cows, 38.8ms\n",
      "Speed: 7.0ms preprocess, 38.8ms inference, 0.8ms postprocess per image at shape (1, 3, 640, 384)\n",
      "Processed frame 150\n",
      "0: 640x384 3 cows, 39.0ms\n",
      "Speed: 2.1ms preprocess, 39.0ms inference, 0.7ms postprocess per image at shape (1, 3, 640, 384)\n",
      "Processed frame 151\n",
      "0: 640x384 4 cows, 81.7ms\n",
      "Speed: 2.2ms preprocess, 81.7ms inference, 0.8ms postprocess per image at shape (1, 3, 640, 384)\n",
      "Processed frame 152\n",
      "0: 640x384 4 cows, 42.4ms\n",
      "Speed: 1.7ms preprocess, 42.4ms inference, 0.7ms postprocess per image at shape (1, 3, 640, 384)\n",
      "Processed frame 153\n",
      "0: 640x384 4 cows, 39.8ms\n",
      "Speed: 2.2ms preprocess, 39.8ms inference, 0.5ms postprocess per image at shape (1, 3, 640, 384)\n",
      "Processed frame 154\n",
      "0: 640x384 4 cows, 33.3ms\n",
      "Speed: 1.6ms preprocess, 33.3ms inference, 0.5ms postprocess per image at shape (1, 3, 640, 384)\n",
      "Processed frame 155\n",
      "0: 640x384 4 cows, 37.1ms\n",
      "Speed: 1.3ms preprocess, 37.1ms inference, 0.7ms postprocess per image at shape (1, 3, 640, 384)\n",
      "Processed frame 156\n",
      "0: 640x384 5 cows, 34.2ms\n",
      "Speed: 2.1ms preprocess, 34.2ms inference, 0.5ms postprocess per image at shape (1, 3, 640, 384)\n",
      "Processed frame 157\n",
      "0: 640x384 4 cows, 36.9ms\n",
      "Speed: 1.9ms preprocess, 36.9ms inference, 0.7ms postprocess per image at shape (1, 3, 640, 384)\n",
      "Processed frame 158\n",
      "0: 640x384 3 cows, 35.3ms\n",
      "Speed: 2.0ms preprocess, 35.3ms inference, 0.7ms postprocess per image at shape (1, 3, 640, 384)\n",
      "Processed frame 159\n",
      "0: 640x384 3 cows, 34.3ms\n",
      "Speed: 1.7ms preprocess, 34.3ms inference, 0.6ms postprocess per image at shape (1, 3, 640, 384)\n",
      "Processed frame 160\n",
      "0: 640x384 3 cows, 33.1ms\n",
      "Speed: 1.4ms preprocess, 33.1ms inference, 0.6ms postprocess per image at shape (1, 3, 640, 384)\n",
      "Processed frame 161\n",
      "0: 640x384 3 cows, 33.7ms\n",
      "Speed: 1.8ms preprocess, 33.7ms inference, 0.5ms postprocess per image at shape (1, 3, 640, 384)\n",
      "Processed frame 162\n",
      "0: 640x384 3 cows, 31.9ms\n",
      "Speed: 1.5ms preprocess, 31.9ms inference, 0.5ms postprocess per image at shape (1, 3, 640, 384)\n",
      "Processed frame 163\n",
      "0: 640x384 3 cows, 32.3ms\n",
      "Speed: 7.5ms preprocess, 32.3ms inference, 0.7ms postprocess per image at shape (1, 3, 640, 384)\n",
      "Processed frame 164\n",
      "0: 640x384 4 cows, 33.1ms\n",
      "Speed: 1.4ms preprocess, 33.1ms inference, 0.7ms postprocess per image at shape (1, 3, 640, 384)\n",
      "Processed frame 165\n",
      "0: 640x384 3 cows, 31.6ms\n",
      "Speed: 2.0ms preprocess, 31.6ms inference, 0.6ms postprocess per image at shape (1, 3, 640, 384)\n",
      "Processed frame 166\n",
      "0: 640x384 3 cows, 34.0ms\n",
      "Speed: 1.5ms preprocess, 34.0ms inference, 0.6ms postprocess per image at shape (1, 3, 640, 384)\n",
      "Processed frame 167\n",
      "0: 640x384 3 cows, 34.1ms\n",
      "Speed: 1.6ms preprocess, 34.1ms inference, 0.6ms postprocess per image at shape (1, 3, 640, 384)\n",
      "Processed frame 168\n",
      "0: 640x384 3 cows, 33.4ms\n",
      "Speed: 2.3ms preprocess, 33.4ms inference, 0.5ms postprocess per image at shape (1, 3, 640, 384)\n",
      "Processed frame 169\n",
      "0: 640x384 4 cows, 34.7ms\n",
      "Speed: 1.5ms preprocess, 34.7ms inference, 0.6ms postprocess per image at shape (1, 3, 640, 384)\n",
      "Processed frame 170\n",
      "0: 640x384 4 cows, 33.8ms\n",
      "Speed: 1.9ms preprocess, 33.8ms inference, 0.6ms postprocess per image at shape (1, 3, 640, 384)\n",
      "Processed frame 171\n",
      "0: 640x384 3 cows, 31.7ms\n",
      "Speed: 1.6ms preprocess, 31.7ms inference, 0.5ms postprocess per image at shape (1, 3, 640, 384)\n",
      "Processed frame 172\n",
      "0: 640x384 3 cows, 34.3ms\n",
      "Speed: 1.5ms preprocess, 34.3ms inference, 0.6ms postprocess per image at shape (1, 3, 640, 384)\n",
      "Processed frame 173\n",
      "0: 640x384 5 cows, 34.8ms\n",
      "Speed: 1.5ms preprocess, 34.8ms inference, 0.5ms postprocess per image at shape (1, 3, 640, 384)\n",
      "Processed frame 174\n",
      "0: 640x384 5 cows, 34.3ms\n",
      "Speed: 2.0ms preprocess, 34.3ms inference, 0.5ms postprocess per image at shape (1, 3, 640, 384)\n",
      "Processed frame 175\n",
      "0: 640x384 5 cows, 35.7ms\n",
      "Speed: 1.9ms preprocess, 35.7ms inference, 0.7ms postprocess per image at shape (1, 3, 640, 384)\n",
      "Processed frame 176\n",
      "0: 640x384 5 cows, 35.0ms\n",
      "Speed: 1.6ms preprocess, 35.0ms inference, 0.6ms postprocess per image at shape (1, 3, 640, 384)\n",
      "Processed frame 177\n",
      "0: 640x384 5 cows, 33.5ms\n",
      "Speed: 1.4ms preprocess, 33.5ms inference, 0.5ms postprocess per image at shape (1, 3, 640, 384)\n",
      "Processed frame 178\n",
      "0: 640x384 5 cows, 35.0ms\n",
      "Speed: 2.0ms preprocess, 35.0ms inference, 0.7ms postprocess per image at shape (1, 3, 640, 384)\n",
      "Processed frame 179\n",
      "0: 640x384 5 cows, 32.8ms\n",
      "Speed: 7.3ms preprocess, 32.8ms inference, 0.6ms postprocess per image at shape (1, 3, 640, 384)\n",
      "Processed frame 180\n",
      "0: 640x384 5 cows, 34.8ms\n",
      "Speed: 1.4ms preprocess, 34.8ms inference, 0.6ms postprocess per image at shape (1, 3, 640, 384)\n",
      "Processed frame 181\n",
      "0: 640x384 5 cows, 31.6ms\n",
      "Speed: 1.4ms preprocess, 31.6ms inference, 0.5ms postprocess per image at shape (1, 3, 640, 384)\n",
      "Processed frame 182\n",
      "0: 640x384 5 cows, 32.9ms\n",
      "Speed: 1.7ms preprocess, 32.9ms inference, 0.7ms postprocess per image at shape (1, 3, 640, 384)\n",
      "Processed frame 183\n",
      "0: 640x384 4 cows, 32.4ms\n",
      "Speed: 1.3ms preprocess, 32.4ms inference, 0.6ms postprocess per image at shape (1, 3, 640, 384)\n",
      "Processed frame 184\n",
      "0: 640x384 3 cows, 32.2ms\n",
      "Speed: 1.5ms preprocess, 32.2ms inference, 0.5ms postprocess per image at shape (1, 3, 640, 384)\n",
      "Processed frame 185\n",
      "0: 640x384 3 cows, 34.1ms\n",
      "Speed: 1.4ms preprocess, 34.1ms inference, 0.6ms postprocess per image at shape (1, 3, 640, 384)\n",
      "Processed frame 186\n",
      "0: 640x384 3 cows, 34.1ms\n",
      "Speed: 1.6ms preprocess, 34.1ms inference, 0.6ms postprocess per image at shape (1, 3, 640, 384)\n",
      "Processed frame 187\n",
      "0: 640x384 3 cows, 31.8ms\n",
      "Speed: 1.7ms preprocess, 31.8ms inference, 0.6ms postprocess per image at shape (1, 3, 640, 384)\n",
      "Processed frame 188\n",
      "0: 640x384 5 cows, 32.7ms\n",
      "Speed: 1.5ms preprocess, 32.7ms inference, 0.5ms postprocess per image at shape (1, 3, 640, 384)\n",
      "Processed frame 189\n",
      "0: 640x384 5 cows, 33.1ms\n",
      "Speed: 1.4ms preprocess, 33.1ms inference, 0.5ms postprocess per image at shape (1, 3, 640, 384)\n",
      "Processed frame 190\n",
      "0: 640x384 4 cows, 33.2ms\n",
      "Speed: 1.3ms preprocess, 33.2ms inference, 0.6ms postprocess per image at shape (1, 3, 640, 384)\n",
      "Processed frame 191\n",
      "0: 640x384 5 cows, 34.1ms\n",
      "Speed: 1.3ms preprocess, 34.1ms inference, 0.7ms postprocess per image at shape (1, 3, 640, 384)\n",
      "Processed frame 192\n",
      "0: 640x384 5 cows, 31.8ms\n",
      "Speed: 1.4ms preprocess, 31.8ms inference, 0.6ms postprocess per image at shape (1, 3, 640, 384)\n",
      "Processed frame 193\n",
      "0: 640x384 5 cows, 34.8ms\n",
      "Speed: 1.3ms preprocess, 34.8ms inference, 0.7ms postprocess per image at shape (1, 3, 640, 384)\n",
      "Processed frame 194\n",
      "0: 640x384 4 cows, 40.0ms\n",
      "Speed: 1.4ms preprocess, 40.0ms inference, 0.5ms postprocess per image at shape (1, 3, 640, 384)\n",
      "Processed frame 195\n",
      "0: 640x384 4 cows, 34.0ms\n",
      "Speed: 1.5ms preprocess, 34.0ms inference, 0.7ms postprocess per image at shape (1, 3, 640, 384)\n",
      "Processed frame 196\n",
      "0: 640x384 4 cows, 32.0ms\n",
      "Speed: 1.6ms preprocess, 32.0ms inference, 0.5ms postprocess per image at shape (1, 3, 640, 384)\n",
      "Processed frame 197\n",
      "0: 640x384 5 cows, 33.0ms\n",
      "Speed: 1.7ms preprocess, 33.0ms inference, 0.6ms postprocess per image at shape (1, 3, 640, 384)\n",
      "Processed frame 198\n",
      " Detection complete! Saved: output_annotated2.mp4\n"
     ]
    }
   ],
   "source": [
    "# detect_from_video.py\n",
    "import cv2\n",
    "import os\n",
    "from ultralytics import YOLO\n",
    "import uuid\n",
    "\n",
    "# Load your trained model\n",
    "model = YOLO(\"/home/dew/intership/project1/main/yolo11n.pt\")  # path to your trained weights\n",
    "\n",
    "# Path to input video\n",
    "VIDEO_PATH = \"testvideo3.mp4\"  # replace with your file\n",
    "CROP_DIR = \"crops\"\n",
    "os.makedirs(CROP_DIR, exist_ok=True)\n",
    "\n",
    "# Output video path\n",
    "OUTPUT_VIDEO = \"output_annotated2.mp4\"\n",
    "\n",
    "cap = cv2.VideoCapture(VIDEO_PATH)\n",
    "width = int(cap.get(cv2.CAP_PROP_FRAME_WIDTH))\n",
    "height = int(cap.get(cv2.CAP_PROP_FRAME_HEIGHT))\n",
    "fps = cap.get(cv2.CAP_PROP_FPS)\n",
    "\n",
    "# Setup video writer\n",
    "out = cv2.VideoWriter(OUTPUT_VIDEO, cv2.VideoWriter_fourcc(*'mp4v'), fps, (width, height))\n",
    "\n",
    "frame_count = 0\n",
    "while cap.isOpened():\n",
    "    ret, frame = cap.read()\n",
    "    if not ret:\n",
    "        break\n",
    "\n",
    "    results = model(frame)[0]  # YOLOv11 inference\n",
    "\n",
    "    for box in results.boxes.xyxy.cpu().numpy():\n",
    "        x1, y1, x2, y2 = map(int, box)\n",
    "        crop = frame[y1:y2, x1:x2]\n",
    "        filename = f\"{CROP_DIR}/cattle_{uuid.uuid4().hex[:8]}.jpg\"\n",
    "        cv2.imwrite(filename, crop)\n",
    "\n",
    "    # Draw boxes on the frame\n",
    "    annotated_frame = results.plot()\n",
    "    out.write(annotated_frame)\n",
    "\n",
    "    frame_count += 1\n",
    "    print(f\"Processed frame {frame_count}\", end=\"\\r\")\n",
    "\n",
    "cap.release()\n",
    "out.release()\n",
    "print(f\"\\n Detection complete! Saved: {OUTPUT_VIDEO}\")\n"
   ]
  },
  {
   "cell_type": "code",
   "execution_count": null,
   "metadata": {},
   "outputs": [],
   "source": []
  },
  {
   "cell_type": "code",
   "execution_count": null,
   "metadata": {},
   "outputs": [],
   "source": []
  }
 ],
 "metadata": {
  "kernelspec": {
   "display_name": "ml",
   "language": "python",
   "name": "python3"
  },
  "language_info": {
   "codemirror_mode": {
    "name": "ipython",
    "version": 3
   },
   "file_extension": ".py",
   "mimetype": "text/x-python",
   "name": "python",
   "nbconvert_exporter": "python",
   "pygments_lexer": "ipython3",
   "version": "3.11.10"
  }
 },
 "nbformat": 4,
 "nbformat_minor": 2
}
